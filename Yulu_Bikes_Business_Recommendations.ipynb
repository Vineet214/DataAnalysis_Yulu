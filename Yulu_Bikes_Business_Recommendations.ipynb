{
 "cells": [
  {
   "cell_type": "markdown",
   "metadata": {},
   "source": [
    "# Helping Yulu Make Better Business Decisions :"
   ]
  },
  {
   "cell_type": "markdown",
   "metadata": {},
   "source": [
    "    WHAT IS YULU BIKES : \n",
    "    \n",
    "    Yulu is a technology-driven mobility platform that enables Integrated Urban Mobility across public and private modes of transport. Using Micro Mobility Vehicles (MMVs) through a user-friendly mobile app, Yulu enables first and last-mile connectivity that is seamless, shared and sustainable."
   ]
  },
  {
   "cell_type": "markdown",
   "metadata": {},
   "source": [
    "    - What are the conditions where the probability is highest for Yulu Bikes demand?\n",
    "    \n",
    "    - What time of the day can Yulu Bikes experiment with surge pricing?\n",
    "    \n",
    "    - Does seasonality play a role in the demand?\n",
    "    \n",
    "    - How to increase the number of registered customers?\n",
    "    \n",
    "    - Is the demand effected by the fact that the day is a holiday or a working day?\n",
    "    \n",
    "    - What role does weather play on Yulu Bikes demand?\n",
    "    \n",
    "    - Do we see any trend in the demand for Yulu Bikes? How can we leverage it?\n",
    "    "
   ]
  },
  {
   "cell_type": "markdown",
   "metadata": {},
   "source": [
    "## Yulu Dataset"
   ]
  },
  {
   "cell_type": "markdown",
   "metadata": {},
   "source": [
    "#### This Yulu dataset available on Kaggle"
   ]
  },
  {
   "cell_type": "markdown",
   "metadata": {},
   "source": [
    "    - Datetime   : Datetime\n",
    "    - season     : 1 = spring, 2 = summer, 3 = fall, 4 = winter\n",
    "    - holiday    : Whether day is a holiday (1) or not holiday (0)\n",
    "    - workingday : If day is neither weekend nor holiday,it is 1, otherwise is 0.\n",
    "    - weather    :\n",
    "                    1: Clear, Few clouds, partly cloudy, partly cloudy\n",
    "                    2: Mist + Cloudy, Mist + Broken clouds, Mist + Few clouds, Mist\n",
    "                    3: Light Rain + Thunderstorm + Scattered clouds, Light Rain + Scattered clouds\n",
    "                    4: Heavy Rain + Ice Pallets + Thunderstorm + Mist, Snow + Fog\n",
    "    - temp       : Temperature in Celsius\n",
    "    - atemp      : Feeling temperature in Celsius\n",
    "    - humidity   : Humidity\n",
    "    - windspeed  : Wind speed\n",
    "    - casual     : Count of casual users\n",
    "    - registered : Count of registered users\n",
    "    - count      : Count of total rental bikes including both casual and registered"
   ]
  },
  {
   "cell_type": "markdown",
   "metadata": {},
   "source": [
    "### Contents in the Notebook :\n",
    "\n",
    "\n",
    "#### (1)   Data Preprocessing\n",
    "\n",
    "#### (2)   Multivariate Data Analysis\n",
    "\n",
    "#### (3)   Analyzing Weather and Season for customer count\n",
    "\n",
    "#### (4)   Analyzing Weather and Season and Working days \n",
    "\n",
    "#### (5)   Monthly analysis & analysis during the day \n",
    "\n",
    "#### (6)   Quarterly and Yearly Trends \n",
    "\n",
    "#### (7)   Effect of Temperature, Windspeed and Humidity over the customer demand \n",
    "\n",
    "#### (8)   Registered customers vs Casual Customers \n",
    "\n",
    "#### (9)   SOME BUSINESS RECOMMENDATIONS TO THE LEADERSHIP\n"
   ]
  },
  {
   "cell_type": "code",
   "execution_count": null,
   "metadata": {},
   "outputs": [],
   "source": []
  },
  {
   "cell_type": "code",
   "execution_count": 3,
   "metadata": {},
   "outputs": [],
   "source": [
    "import pandas as pd\n",
    "import numpy as np\n",
    "import seaborn as sns\n",
    "import matplotlib.pyplot as plt"
   ]
  },
  {
   "cell_type": "code",
   "execution_count": 4,
   "metadata": {},
   "outputs": [],
   "source": [
    "yu = pd.read_csv('Yulu.csv', engine='python', index_col = 0)\n",
    "yu = yu.reset_index()"
   ]
  },
  {
   "cell_type": "code",
   "execution_count": 5,
   "metadata": {},
   "outputs": [
    {
     "data": {
      "text/plain": [
       "(10886, 12)"
      ]
     },
     "execution_count": 5,
     "metadata": {},
     "output_type": "execute_result"
    }
   ],
   "source": [
    "yu.shape"
   ]
  },
  {
   "cell_type": "code",
   "execution_count": 6,
   "metadata": {},
   "outputs": [
    {
     "data": {
      "text/html": [
       "<div>\n",
       "<style scoped>\n",
       "    .dataframe tbody tr th:only-of-type {\n",
       "        vertical-align: middle;\n",
       "    }\n",
       "\n",
       "    .dataframe tbody tr th {\n",
       "        vertical-align: top;\n",
       "    }\n",
       "\n",
       "    .dataframe thead th {\n",
       "        text-align: right;\n",
       "    }\n",
       "</style>\n",
       "<table border=\"1\" class=\"dataframe\">\n",
       "  <thead>\n",
       "    <tr style=\"text-align: right;\">\n",
       "      <th></th>\n",
       "      <th>datetime</th>\n",
       "      <th>season</th>\n",
       "      <th>holiday</th>\n",
       "      <th>workingday</th>\n",
       "      <th>weather</th>\n",
       "      <th>temp</th>\n",
       "      <th>atemp</th>\n",
       "      <th>humidity</th>\n",
       "      <th>windspeed</th>\n",
       "      <th>casual</th>\n",
       "      <th>registered</th>\n",
       "      <th>count</th>\n",
       "    </tr>\n",
       "  </thead>\n",
       "  <tbody>\n",
       "    <tr>\n",
       "      <th>0</th>\n",
       "      <td>2011-01-01 00:00:00</td>\n",
       "      <td>1</td>\n",
       "      <td>0</td>\n",
       "      <td>0</td>\n",
       "      <td>1</td>\n",
       "      <td>9.84</td>\n",
       "      <td>14.395</td>\n",
       "      <td>81</td>\n",
       "      <td>0.0</td>\n",
       "      <td>3</td>\n",
       "      <td>13</td>\n",
       "      <td>16</td>\n",
       "    </tr>\n",
       "    <tr>\n",
       "      <th>1</th>\n",
       "      <td>2011-01-01 01:00:00</td>\n",
       "      <td>1</td>\n",
       "      <td>0</td>\n",
       "      <td>0</td>\n",
       "      <td>1</td>\n",
       "      <td>9.02</td>\n",
       "      <td>13.635</td>\n",
       "      <td>80</td>\n",
       "      <td>0.0</td>\n",
       "      <td>8</td>\n",
       "      <td>32</td>\n",
       "      <td>40</td>\n",
       "    </tr>\n",
       "    <tr>\n",
       "      <th>2</th>\n",
       "      <td>2011-01-01 02:00:00</td>\n",
       "      <td>1</td>\n",
       "      <td>0</td>\n",
       "      <td>0</td>\n",
       "      <td>1</td>\n",
       "      <td>9.02</td>\n",
       "      <td>13.635</td>\n",
       "      <td>80</td>\n",
       "      <td>0.0</td>\n",
       "      <td>5</td>\n",
       "      <td>27</td>\n",
       "      <td>32</td>\n",
       "    </tr>\n",
       "    <tr>\n",
       "      <th>3</th>\n",
       "      <td>2011-01-01 03:00:00</td>\n",
       "      <td>1</td>\n",
       "      <td>0</td>\n",
       "      <td>0</td>\n",
       "      <td>1</td>\n",
       "      <td>9.84</td>\n",
       "      <td>14.395</td>\n",
       "      <td>75</td>\n",
       "      <td>0.0</td>\n",
       "      <td>3</td>\n",
       "      <td>10</td>\n",
       "      <td>13</td>\n",
       "    </tr>\n",
       "    <tr>\n",
       "      <th>4</th>\n",
       "      <td>2011-01-01 04:00:00</td>\n",
       "      <td>1</td>\n",
       "      <td>0</td>\n",
       "      <td>0</td>\n",
       "      <td>1</td>\n",
       "      <td>9.84</td>\n",
       "      <td>14.395</td>\n",
       "      <td>75</td>\n",
       "      <td>0.0</td>\n",
       "      <td>0</td>\n",
       "      <td>1</td>\n",
       "      <td>1</td>\n",
       "    </tr>\n",
       "  </tbody>\n",
       "</table>\n",
       "</div>"
      ],
      "text/plain": [
       "              datetime  season  holiday  workingday  weather  temp   atemp  \\\n",
       "0  2011-01-01 00:00:00       1        0           0        1  9.84  14.395   \n",
       "1  2011-01-01 01:00:00       1        0           0        1  9.02  13.635   \n",
       "2  2011-01-01 02:00:00       1        0           0        1  9.02  13.635   \n",
       "3  2011-01-01 03:00:00       1        0           0        1  9.84  14.395   \n",
       "4  2011-01-01 04:00:00       1        0           0        1  9.84  14.395   \n",
       "\n",
       "   humidity  windspeed  casual  registered  count  \n",
       "0        81        0.0       3          13     16  \n",
       "1        80        0.0       8          32     40  \n",
       "2        80        0.0       5          27     32  \n",
       "3        75        0.0       3          10     13  \n",
       "4        75        0.0       0           1      1  "
      ]
     },
     "execution_count": 6,
     "metadata": {},
     "output_type": "execute_result"
    }
   ],
   "source": [
    "yu.head()"
   ]
  },
  {
   "cell_type": "code",
   "execution_count": null,
   "metadata": {},
   "outputs": [],
   "source": []
  },
  {
   "cell_type": "markdown",
   "metadata": {},
   "source": [
    "## Data Preprocessing :"
   ]
  },
  {
   "cell_type": "code",
   "execution_count": 7,
   "metadata": {},
   "outputs": [
    {
     "name": "stdout",
     "output_type": "stream",
     "text": [
      "<class 'pandas.core.frame.DataFrame'>\n",
      "RangeIndex: 10886 entries, 0 to 10885\n",
      "Data columns (total 12 columns):\n",
      " #   Column      Non-Null Count  Dtype  \n",
      "---  ------      --------------  -----  \n",
      " 0   datetime    10886 non-null  object \n",
      " 1   season      10886 non-null  int64  \n",
      " 2   holiday     10886 non-null  int64  \n",
      " 3   workingday  10886 non-null  int64  \n",
      " 4   weather     10886 non-null  int64  \n",
      " 5   temp        10886 non-null  float64\n",
      " 6   atemp       10886 non-null  float64\n",
      " 7   humidity    10886 non-null  int64  \n",
      " 8   windspeed   10886 non-null  float64\n",
      " 9   casual      10886 non-null  int64  \n",
      " 10  registered  10886 non-null  int64  \n",
      " 11  count       10886 non-null  int64  \n",
      "dtypes: float64(3), int64(8), object(1)\n",
      "memory usage: 1020.7+ KB\n"
     ]
    }
   ],
   "source": [
    "yu.info()"
   ]
  },
  {
   "cell_type": "code",
   "execution_count": 8,
   "metadata": {},
   "outputs": [
    {
     "data": {
      "text/plain": [
       "count    10886.000000\n",
       "mean       191.574132\n",
       "std        181.144454\n",
       "min          1.000000\n",
       "25%         42.000000\n",
       "50%        145.000000\n",
       "75%        284.000000\n",
       "max        977.000000\n",
       "Name: count, dtype: float64"
      ]
     },
     "execution_count": 8,
     "metadata": {},
     "output_type": "execute_result"
    }
   ],
   "source": [
    "yu['count'].describe()"
   ]
  },
  {
   "cell_type": "code",
   "execution_count": 9,
   "metadata": {},
   "outputs": [
    {
     "data": {
      "text/plain": [
       "str"
      ]
     },
     "execution_count": 9,
     "metadata": {},
     "output_type": "execute_result"
    }
   ],
   "source": [
    "# the datetime column is string right now\n",
    "\n",
    "type(yu['datetime'][0])"
   ]
  },
  {
   "cell_type": "code",
   "execution_count": 10,
   "metadata": {},
   "outputs": [
    {
     "data": {
      "text/plain": [
       "(1.0, 42.0, 284.0, 977.0, 242.0)"
      ]
     },
     "execution_count": 10,
     "metadata": {},
     "output_type": "execute_result"
    }
   ],
   "source": [
    "# Calculating the Inter Quartile Range for the dataset\n",
    "\n",
    "Qmin = yu['count'].describe()[3]\n",
    "Q1 = yu['count'].describe()[4]\n",
    "Q3 = yu['count'].describe()[6]\n",
    "Qmax = yu['count'].describe()[7]\n",
    "IQR = Q3 - Q1\n",
    "\n",
    "Qmin,Q1,Q3,Qmax, IQR"
   ]
  },
  {
   "cell_type": "code",
   "execution_count": 15,
   "metadata": {},
   "outputs": [
    {
     "data": {
      "text/plain": [
       "647.0"
      ]
     },
     "execution_count": 15,
     "metadata": {},
     "output_type": "execute_result"
    }
   ],
   "source": [
    "upp_limit = Q3 + (1.5*IQR)\n",
    "upp_limit"
   ]
  },
  {
   "cell_type": "code",
   "execution_count": 489,
   "metadata": {},
   "outputs": [
    {
     "data": {
      "text/plain": [
       "20.231965089572746"
      ]
     },
     "execution_count": 489,
     "metadata": {},
     "output_type": "execute_result"
    }
   ],
   "source": [
    "yu['temp'].mean()"
   ]
  },
  {
   "cell_type": "code",
   "execution_count": 11,
   "metadata": {},
   "outputs": [],
   "source": [
    "def weather(x):\n",
    "    if x == 1:\n",
    "        return 'Clear'\n",
    "    elif x == 2:\n",
    "        return 'Cloudy'\n",
    "    elif x == 3:\n",
    "        return 'LightRains'\n",
    "    elif x == 4:\n",
    "        return 'Thunderstorm'\n",
    "    \n",
    "def season(x):\n",
    "    if x == 1:\n",
    "        return 'Spring'\n",
    "    elif x == 2:\n",
    "        return 'Summer'\n",
    "    elif x == 3:\n",
    "        return 'Fall'\n",
    "    elif x == 4:\n",
    "        return 'Winter'\n",
    "    \n",
    "def dayperiod(x):\n",
    "    if x.hour in (4,5,6,7):\n",
    "        return 'EarlyMorning'\n",
    "    elif x.hour in (8,9,10,11):\n",
    "        return 'Morning'\n",
    "    elif x.hour in (12,13,14,15,16):\n",
    "        return 'Afternoon'\n",
    "    elif x.hour in (17,18,19):\n",
    "        return 'Evening'\n",
    "    elif x.hour in (20,21,22,23):\n",
    "        return 'Night'\n",
    "    elif x.hour in (0,1,2,3):\n",
    "        return 'LateNight'"
   ]
  },
  {
   "cell_type": "code",
   "execution_count": 16,
   "metadata": {},
   "outputs": [],
   "source": [
    "def traffic(x):\n",
    "    if x >= upp_limit:\n",
    "        return 'High'\n",
    "    else:\n",
    "        return 'Normal'\n",
    "    \n",
    "def month(x):\n",
    "    if x == 1:\n",
    "        return 'Jan'\n",
    "    elif x == 2:\n",
    "        return 'Feb'\n",
    "    elif x == 3:\n",
    "        return 'Mar'\n",
    "    elif x == 4:\n",
    "        return 'Apr'\n",
    "    elif x == 5:\n",
    "        return 'May'\n",
    "    elif x == 6:\n",
    "        return 'Jun'\n",
    "    elif x == 7:\n",
    "        return 'Jul'\n",
    "    elif x == 8:\n",
    "        return 'Aug'\n",
    "    elif x == 9:\n",
    "        return 'Sep'\n",
    "    elif x == 10:\n",
    "        return 'Oct'\n",
    "    elif x == 11:\n",
    "        return 'Nov'\n",
    "    elif x == 12:\n",
    "        return 'Dec'\n",
    "    "
   ]
  },
  {
   "cell_type": "code",
   "execution_count": 17,
   "metadata": {},
   "outputs": [],
   "source": [
    "# converting datetime column to datetime type\n",
    "yu['datetime'] = pd.to_datetime(yu['datetime'])\n",
    "yu['date'] = yu['datetime'].dt.date\n",
    "yu['time'] = yu['datetime'].dt.time\n",
    "\n",
    "\n",
    "#extracting month, day and year details from the data\n",
    "yu['day'] = yu['date'].apply(lambda x:x.day)\n",
    "yu['month'] = yu['date'].apply(lambda x:x.month)\n",
    "yu['year'] = yu['date'].apply(lambda x:x.year)\n",
    "\n",
    "\n",
    "# preprocessing values in the data for better analysis\n",
    "yu['month'] = yu['month'].apply(month)\n",
    "yu['dayperiod'] = yu['time'].apply(dayperiod)\n",
    "yu['weatherDesc'] = yu['weather'].apply(weather)\n",
    "yu['seasonDesc'] = yu['season'].apply(season)\n",
    "yu['holidayDesc'] = yu['holiday'].apply(lambda x: 'Holiday' if x == 1 else 'Not Holiday')\n",
    "yu['workingdayDesc'] = yu['workingday'].apply(lambda x: 'Working' if x == 1 else 'Not Working')\n",
    "\n",
    "\n",
    "# casual and registeretd customer ratio\n",
    "yu['casual%'] = yu['casual']*100/yu['count']\n",
    "yu['registered%'] = yu['registered']*100/yu['count']\n",
    "\n",
    "yu['casual%'] = yu['casual%'].round(2)\n",
    "yu['registered%'] = yu['registered%'].round(2)\n",
    "\n",
    "\n",
    "# adding traffic column for better analysis\n",
    "yu['traffic'] = yu['count'].apply(traffic)   \n",
    "\n",
    "\n",
    "# removing record with weather = Thunderstorm as it is the only 1 record in the data and is insignificant\n",
    "yu = yu[yu['weatherDesc'] != 'Thunderstorm']"
   ]
  },
  {
   "cell_type": "code",
   "execution_count": 18,
   "metadata": {},
   "outputs": [
    {
     "data": {
      "text/html": [
       "<div>\n",
       "<style scoped>\n",
       "    .dataframe tbody tr th:only-of-type {\n",
       "        vertical-align: middle;\n",
       "    }\n",
       "\n",
       "    .dataframe tbody tr th {\n",
       "        vertical-align: top;\n",
       "    }\n",
       "\n",
       "    .dataframe thead th {\n",
       "        text-align: right;\n",
       "    }\n",
       "</style>\n",
       "<table border=\"1\" class=\"dataframe\">\n",
       "  <thead>\n",
       "    <tr style=\"text-align: right;\">\n",
       "      <th></th>\n",
       "      <th>datetime</th>\n",
       "      <th>season</th>\n",
       "      <th>holiday</th>\n",
       "      <th>workingday</th>\n",
       "      <th>weather</th>\n",
       "      <th>temp</th>\n",
       "      <th>atemp</th>\n",
       "      <th>humidity</th>\n",
       "      <th>windspeed</th>\n",
       "      <th>casual</th>\n",
       "      <th>...</th>\n",
       "      <th>month</th>\n",
       "      <th>year</th>\n",
       "      <th>dayperiod</th>\n",
       "      <th>weatherDesc</th>\n",
       "      <th>seasonDesc</th>\n",
       "      <th>holidayDesc</th>\n",
       "      <th>workingdayDesc</th>\n",
       "      <th>casual%</th>\n",
       "      <th>registered%</th>\n",
       "      <th>traffic</th>\n",
       "    </tr>\n",
       "  </thead>\n",
       "  <tbody>\n",
       "    <tr>\n",
       "      <th>0</th>\n",
       "      <td>2011-01-01 00:00:00</td>\n",
       "      <td>1</td>\n",
       "      <td>0</td>\n",
       "      <td>0</td>\n",
       "      <td>1</td>\n",
       "      <td>9.84</td>\n",
       "      <td>14.395</td>\n",
       "      <td>81</td>\n",
       "      <td>0.0</td>\n",
       "      <td>3</td>\n",
       "      <td>...</td>\n",
       "      <td>Jan</td>\n",
       "      <td>2011</td>\n",
       "      <td>LateNight</td>\n",
       "      <td>Clear</td>\n",
       "      <td>Spring</td>\n",
       "      <td>Not Holiday</td>\n",
       "      <td>Not Working</td>\n",
       "      <td>18.75</td>\n",
       "      <td>81.25</td>\n",
       "      <td>Normal</td>\n",
       "    </tr>\n",
       "    <tr>\n",
       "      <th>1</th>\n",
       "      <td>2011-01-01 01:00:00</td>\n",
       "      <td>1</td>\n",
       "      <td>0</td>\n",
       "      <td>0</td>\n",
       "      <td>1</td>\n",
       "      <td>9.02</td>\n",
       "      <td>13.635</td>\n",
       "      <td>80</td>\n",
       "      <td>0.0</td>\n",
       "      <td>8</td>\n",
       "      <td>...</td>\n",
       "      <td>Jan</td>\n",
       "      <td>2011</td>\n",
       "      <td>LateNight</td>\n",
       "      <td>Clear</td>\n",
       "      <td>Spring</td>\n",
       "      <td>Not Holiday</td>\n",
       "      <td>Not Working</td>\n",
       "      <td>20.00</td>\n",
       "      <td>80.00</td>\n",
       "      <td>Normal</td>\n",
       "    </tr>\n",
       "    <tr>\n",
       "      <th>2</th>\n",
       "      <td>2011-01-01 02:00:00</td>\n",
       "      <td>1</td>\n",
       "      <td>0</td>\n",
       "      <td>0</td>\n",
       "      <td>1</td>\n",
       "      <td>9.02</td>\n",
       "      <td>13.635</td>\n",
       "      <td>80</td>\n",
       "      <td>0.0</td>\n",
       "      <td>5</td>\n",
       "      <td>...</td>\n",
       "      <td>Jan</td>\n",
       "      <td>2011</td>\n",
       "      <td>LateNight</td>\n",
       "      <td>Clear</td>\n",
       "      <td>Spring</td>\n",
       "      <td>Not Holiday</td>\n",
       "      <td>Not Working</td>\n",
       "      <td>15.62</td>\n",
       "      <td>84.38</td>\n",
       "      <td>Normal</td>\n",
       "    </tr>\n",
       "  </tbody>\n",
       "</table>\n",
       "<p>3 rows × 25 columns</p>\n",
       "</div>"
      ],
      "text/plain": [
       "             datetime  season  holiday  workingday  weather  temp   atemp  \\\n",
       "0 2011-01-01 00:00:00       1        0           0        1  9.84  14.395   \n",
       "1 2011-01-01 01:00:00       1        0           0        1  9.02  13.635   \n",
       "2 2011-01-01 02:00:00       1        0           0        1  9.02  13.635   \n",
       "\n",
       "   humidity  windspeed  casual  ...  month  year  dayperiod weatherDesc  \\\n",
       "0        81        0.0       3  ...    Jan  2011  LateNight       Clear   \n",
       "1        80        0.0       8  ...    Jan  2011  LateNight       Clear   \n",
       "2        80        0.0       5  ...    Jan  2011  LateNight       Clear   \n",
       "\n",
       "   seasonDesc  holidayDesc  workingdayDesc casual% registered% traffic  \n",
       "0      Spring  Not Holiday     Not Working   18.75       81.25  Normal  \n",
       "1      Spring  Not Holiday     Not Working   20.00       80.00  Normal  \n",
       "2      Spring  Not Holiday     Not Working   15.62       84.38  Normal  \n",
       "\n",
       "[3 rows x 25 columns]"
      ]
     },
     "execution_count": 18,
     "metadata": {},
     "output_type": "execute_result"
    }
   ],
   "source": [
    "yu.head(3)"
   ]
  },
  {
   "cell_type": "code",
   "execution_count": 19,
   "metadata": {},
   "outputs": [],
   "source": [
    "yu = yu[['date','time','year','month','day','dayperiod','weatherDesc','seasonDesc','holidayDesc','workingdayDesc','weather','temp','atemp','windspeed','humidity','casual','registered','count','casual%','registered%','traffic']]"
   ]
  },
  {
   "cell_type": "markdown",
   "metadata": {},
   "source": [
    "    - No of years of data : Almost 2 years"
   ]
  },
  {
   "cell_type": "code",
   "execution_count": 20,
   "metadata": {},
   "outputs": [
    {
     "data": {
      "text/plain": [
       "1.97"
      ]
     },
     "execution_count": 20,
     "metadata": {},
     "output_type": "execute_result"
    }
   ],
   "source": [
    "round(((max(yu['date']) - min(yu['date'])).days)/365,2)"
   ]
  },
  {
   "cell_type": "code",
   "execution_count": 21,
   "metadata": {},
   "outputs": [
    {
     "data": {
      "text/plain": [
       "Winter    2734\n",
       "Summer    2733\n",
       "Fall      2733\n",
       "Spring    2685\n",
       "Name: seasonDesc, dtype: int64"
      ]
     },
     "execution_count": 21,
     "metadata": {},
     "output_type": "execute_result"
    }
   ],
   "source": [
    "yu['seasonDesc'].value_counts()"
   ]
  },
  {
   "cell_type": "code",
   "execution_count": 22,
   "metadata": {},
   "outputs": [
    {
     "data": {
      "text/plain": [
       "Clear         7192\n",
       "Cloudy        2834\n",
       "LightRains     859\n",
       "Name: weatherDesc, dtype: int64"
      ]
     },
     "execution_count": 22,
     "metadata": {},
     "output_type": "execute_result"
    }
   ],
   "source": [
    "yu['weatherDesc'].value_counts()"
   ]
  },
  {
   "cell_type": "code",
   "execution_count": 392,
   "metadata": {},
   "outputs": [
    {
     "data": {
      "image/png": "[encoded data removed]",
      "text/plain": [
       "<Figure size 576x432 with 1 Axes>"
      ]
     },
     "metadata": {
      "needs_background": "light"
     },
     "output_type": "display_data"
    }
   ],
   "source": [
    "fig = plt.figure(figsize =(8, 6))\n",
    "yu['seasonDesc'].value_counts().sort_values().plot(kind = 'barh', color = '#51A0F8')\n",
    "\n",
    "plt.xlabel(\"Customer Count\")\n",
    "plt.ylabel(\"Seasons\")\n",
    "plt.title(\"Customer Count per Season\")\n",
    "plt.savefig('ccps.png',transparent=True)\n",
    "plt.show()"
   ]
  },
  {
   "cell_type": "markdown",
   "metadata": {},
   "source": [
    "    - The data for seasons is equal for all the seasons, it is a good sample data for data analysis."
   ]
  },
  {
   "cell_type": "code",
   "execution_count": 394,
   "metadata": {},
   "outputs": [
    {
     "data": {
      "image/png": "[encoded data removed]",
      "text/plain": [
       "<Figure size 576x432 with 1 Axes>"
      ]
     },
     "metadata": {
      "needs_background": "light"
     },
     "output_type": "display_data"
    }
   ],
   "source": [
    "fig = plt.figure(figsize =(8, 6))\n",
    "yu['weatherDesc'].value_counts().sort_values().plot(kind = 'barh',color = '#51A0F8')\n",
    "\n",
    "plt.xlabel(\"Customer Count\")\n",
    "plt.ylabel(\"Weathers\")\n",
    "plt.title(\"Customer Count per Weather\")\n",
    "plt.savefig('ccpw.png',transparent=True)\n",
    "plt.show()"
   ]
  },
  {
   "cell_type": "markdown",
   "metadata": {},
   "source": [
    "    - As expected, there are 2.5 times the records for clear weather as cloudy data, and around 8 times the records for     clear weather as Light Rains records."
   ]
  },
  {
   "cell_type": "code",
   "execution_count": 395,
   "metadata": {},
   "outputs": [
    {
     "data": {
      "image/png": "[encoded data removed]",
      "text/plain": [
       "<Figure size 576x432 with 1 Axes>"
      ]
     },
     "metadata": {},
     "output_type": "display_data"
    }
   ],
   "source": [
    "fig = plt.figure(figsize =(8, 6))\n",
    "colors2 = [ '#51A0F8', '#F365E6']\n",
    "plt.pie((yu['holidayDesc'].value_counts()*100/len(yu)).round(),labels=['Not Holiday','Holiday'],autopct='%.02f%%',textprops={'fontsize': 14},wedgeprops = { 'linewidth' : 2, 'edgecolor' : 'white' }, colors = colors2)\n",
    "plt.title(\"Holidays in the dataset\")\n",
    "plt.savefig('hol.png',transparent=True)\n",
    "plt.show()"
   ]
  },
  {
   "cell_type": "markdown",
   "metadata": {},
   "source": [
    "    - Only 3% records in the dataset have Holiday data."
   ]
  },
  {
   "cell_type": "code",
   "execution_count": 28,
   "metadata": {},
   "outputs": [
    {
     "data": {
      "text/plain": [
       "Normal    10582\n",
       "High        303\n",
       "Name: traffic, dtype: int64"
      ]
     },
     "execution_count": 28,
     "metadata": {},
     "output_type": "execute_result"
    }
   ],
   "source": [
    "yu['traffic'].value_counts()"
   ]
  },
  {
   "cell_type": "code",
   "execution_count": 488,
   "metadata": {},
   "outputs": [
    {
     "name": "stderr",
     "output_type": "stream",
     "text": [
      "C:\\Users\\Vineet Pandya\\anaconda3\\lib\\site-packages\\seaborn\\distributions.py:2551: FutureWarning: `distplot` is a deprecated function and will be removed in a future version. Please adapt your code to use either `displot` (a figure-level function with similar flexibility) or `histplot` (an axes-level function for histograms).\n",
      "  warnings.warn(msg, FutureWarning)\n"
     ]
    },
    {
     "data": {
      "image/png": "[encoded data removed]",
      "text/plain": [
       "<Figure size 720x432 with 1 Axes>"
      ]
     },
     "metadata": {
      "needs_background": "light"
     },
     "output_type": "display_data"
    }
   ],
   "source": [
    "fig = plt.figure(figsize =(10, 6))\n",
    "sns.distplot(yu[\"temp\"], kde = True, color = '#51A0F8')\n",
    "\n",
    "plt.xlabel(\"Temperature in °C\")\n",
    "plt.ylabel(\"Density\")\n",
    "plt.title(\"Temperature Distribution\")\n",
    "plt.savefig('temp_dist.png',transparent=True)\n",
    "plt.show()"
   ]
  },
  {
   "cell_type": "code",
   "execution_count": 487,
   "metadata": {},
   "outputs": [
    {
     "name": "stderr",
     "output_type": "stream",
     "text": [
      "C:\\Users\\Vineet Pandya\\anaconda3\\lib\\site-packages\\seaborn\\distributions.py:2551: FutureWarning: `distplot` is a deprecated function and will be removed in a future version. Please adapt your code to use either `displot` (a figure-level function with similar flexibility) or `histplot` (an axes-level function for histograms).\n",
      "  warnings.warn(msg, FutureWarning)\n"
     ]
    },
    {
     "data": {
      "image/png": "[encoded data removed]",
      "text/plain": [
       "<Figure size 720x432 with 1 Axes>"
      ]
     },
     "metadata": {
      "needs_background": "light"
     },
     "output_type": "display_data"
    }
   ],
   "source": [
    "fig = plt.figure(figsize =(10, 6))\n",
    "sns.distplot(yu[\"humidity\"], kde = True, color = '#51A0F8')\n",
    "\n",
    "plt.xlabel(\"Humidity %\")\n",
    "plt.ylabel(\"Density\")\n",
    "plt.title(\"Humidity Distribution\")\n",
    "plt.savefig('hum_dist.png',transparent=True)\n",
    "plt.show()"
   ]
  },
  {
   "cell_type": "code",
   "execution_count": 486,
   "metadata": {},
   "outputs": [
    {
     "name": "stderr",
     "output_type": "stream",
     "text": [
      "C:\\Users\\Vineet Pandya\\anaconda3\\lib\\site-packages\\seaborn\\distributions.py:2551: FutureWarning: `distplot` is a deprecated function and will be removed in a future version. Please adapt your code to use either `displot` (a figure-level function with similar flexibility) or `histplot` (an axes-level function for histograms).\n",
      "  warnings.warn(msg, FutureWarning)\n"
     ]
    },
    {
     "data": {
      "image/png": "[encoded data removed]",
      "text/plain": [
       "<Figure size 720x432 with 1 Axes>"
      ]
     },
     "metadata": {
      "needs_background": "light"
     },
     "output_type": "display_data"
    }
   ],
   "source": [
    "fig = plt.figure(figsize =(10, 6))\n",
    "sns.distplot(yu[\"windspeed\"], kde = True, color = '#51A0F8')\n",
    "\n",
    "plt.xlabel(\"Windspeed in Km/h\")\n",
    "plt.ylabel(\"Density\")\n",
    "plt.title(\"Windspeed Distribution\")\n",
    "plt.savefig('wind_dist.png',transparent=True)\n",
    "plt.show()"
   ]
  },
  {
   "cell_type": "code",
   "execution_count": null,
   "metadata": {},
   "outputs": [],
   "source": []
  },
  {
   "cell_type": "markdown",
   "metadata": {},
   "source": [
    "## Multivariate Data Analysis :"
   ]
  },
  {
   "cell_type": "code",
   "execution_count": 29,
   "metadata": {},
   "outputs": [
    {
     "data": {
      "text/html": [
       "<div>\n",
       "<style scoped>\n",
       "    .dataframe tbody tr th:only-of-type {\n",
       "        vertical-align: middle;\n",
       "    }\n",
       "\n",
       "    .dataframe tbody tr th {\n",
       "        vertical-align: top;\n",
       "    }\n",
       "\n",
       "    .dataframe thead th {\n",
       "        text-align: right;\n",
       "    }\n",
       "</style>\n",
       "<table border=\"1\" class=\"dataframe\">\n",
       "  <thead>\n",
       "    <tr style=\"text-align: right;\">\n",
       "      <th></th>\n",
       "      <th>date</th>\n",
       "      <th>time</th>\n",
       "      <th>year</th>\n",
       "      <th>month</th>\n",
       "      <th>day</th>\n",
       "      <th>dayperiod</th>\n",
       "      <th>weatherDesc</th>\n",
       "      <th>seasonDesc</th>\n",
       "      <th>holidayDesc</th>\n",
       "      <th>workingdayDesc</th>\n",
       "      <th>...</th>\n",
       "      <th>temp</th>\n",
       "      <th>atemp</th>\n",
       "      <th>windspeed</th>\n",
       "      <th>humidity</th>\n",
       "      <th>casual</th>\n",
       "      <th>registered</th>\n",
       "      <th>count</th>\n",
       "      <th>casual%</th>\n",
       "      <th>registered%</th>\n",
       "      <th>traffic</th>\n",
       "    </tr>\n",
       "  </thead>\n",
       "  <tbody>\n",
       "    <tr>\n",
       "      <th>0</th>\n",
       "      <td>2011-01-01</td>\n",
       "      <td>00:00:00</td>\n",
       "      <td>2011</td>\n",
       "      <td>Jan</td>\n",
       "      <td>1</td>\n",
       "      <td>LateNight</td>\n",
       "      <td>Clear</td>\n",
       "      <td>Spring</td>\n",
       "      <td>Not Holiday</td>\n",
       "      <td>Not Working</td>\n",
       "      <td>...</td>\n",
       "      <td>9.84</td>\n",
       "      <td>14.395</td>\n",
       "      <td>0.0</td>\n",
       "      <td>81</td>\n",
       "      <td>3</td>\n",
       "      <td>13</td>\n",
       "      <td>16</td>\n",
       "      <td>18.75</td>\n",
       "      <td>81.25</td>\n",
       "      <td>Normal</td>\n",
       "    </tr>\n",
       "    <tr>\n",
       "      <th>1</th>\n",
       "      <td>2011-01-01</td>\n",
       "      <td>01:00:00</td>\n",
       "      <td>2011</td>\n",
       "      <td>Jan</td>\n",
       "      <td>1</td>\n",
       "      <td>LateNight</td>\n",
       "      <td>Clear</td>\n",
       "      <td>Spring</td>\n",
       "      <td>Not Holiday</td>\n",
       "      <td>Not Working</td>\n",
       "      <td>...</td>\n",
       "      <td>9.02</td>\n",
       "      <td>13.635</td>\n",
       "      <td>0.0</td>\n",
       "      <td>80</td>\n",
       "      <td>8</td>\n",
       "      <td>32</td>\n",
       "      <td>40</td>\n",
       "      <td>20.00</td>\n",
       "      <td>80.00</td>\n",
       "      <td>Normal</td>\n",
       "    </tr>\n",
       "    <tr>\n",
       "      <th>2</th>\n",
       "      <td>2011-01-01</td>\n",
       "      <td>02:00:00</td>\n",
       "      <td>2011</td>\n",
       "      <td>Jan</td>\n",
       "      <td>1</td>\n",
       "      <td>LateNight</td>\n",
       "      <td>Clear</td>\n",
       "      <td>Spring</td>\n",
       "      <td>Not Holiday</td>\n",
       "      <td>Not Working</td>\n",
       "      <td>...</td>\n",
       "      <td>9.02</td>\n",
       "      <td>13.635</td>\n",
       "      <td>0.0</td>\n",
       "      <td>80</td>\n",
       "      <td>5</td>\n",
       "      <td>27</td>\n",
       "      <td>32</td>\n",
       "      <td>15.62</td>\n",
       "      <td>84.38</td>\n",
       "      <td>Normal</td>\n",
       "    </tr>\n",
       "  </tbody>\n",
       "</table>\n",
       "<p>3 rows × 21 columns</p>\n",
       "</div>"
      ],
      "text/plain": [
       "         date      time  year month  day  dayperiod weatherDesc seasonDesc  \\\n",
       "0  2011-01-01  00:00:00  2011   Jan    1  LateNight       Clear     Spring   \n",
       "1  2011-01-01  01:00:00  2011   Jan    1  LateNight       Clear     Spring   \n",
       "2  2011-01-01  02:00:00  2011   Jan    1  LateNight       Clear     Spring   \n",
       "\n",
       "   holidayDesc workingdayDesc  ...  temp   atemp  windspeed  humidity  casual  \\\n",
       "0  Not Holiday    Not Working  ...  9.84  14.395        0.0        81       3   \n",
       "1  Not Holiday    Not Working  ...  9.02  13.635        0.0        80       8   \n",
       "2  Not Holiday    Not Working  ...  9.02  13.635        0.0        80       5   \n",
       "\n",
       "   registered  count  casual%  registered%  traffic  \n",
       "0          13     16    18.75        81.25   Normal  \n",
       "1          32     40    20.00        80.00   Normal  \n",
       "2          27     32    15.62        84.38   Normal  \n",
       "\n",
       "[3 rows x 21 columns]"
      ]
     },
     "execution_count": 29,
     "metadata": {},
     "output_type": "execute_result"
    }
   ],
   "source": [
    "yu.head(3)"
   ]
  },
  {
   "cell_type": "code",
   "execution_count": 36,
   "metadata": {},
   "outputs": [
    {
     "data": {
      "text/plain": [
       "191.58"
      ]
     },
     "execution_count": 36,
     "metadata": {},
     "output_type": "execute_result"
    }
   ],
   "source": [
    "meanCount =round( yu['count'].mean(),2)\n",
    "meanCount"
   ]
  },
  {
   "cell_type": "code",
   "execution_count": 38,
   "metadata": {},
   "outputs": [
    {
     "data": {
      "text/plain": [
       "count    10885.000000\n",
       "mean       191.576665\n",
       "std        181.152582\n",
       "min          1.000000\n",
       "25%         42.000000\n",
       "50%        145.000000\n",
       "75%        284.000000\n",
       "max        977.000000\n",
       "Name: count, dtype: float64"
      ]
     },
     "execution_count": 38,
     "metadata": {},
     "output_type": "execute_result"
    }
   ],
   "source": [
    "yu['count'].describe()"
   ]
  },
  {
   "cell_type": "code",
   "execution_count": 39,
   "metadata": {},
   "outputs": [],
   "source": [
    "yu_high_demand = yu[yu['traffic'] == 'High']\n",
    "yu_no_outlier = yu[yu['traffic'] == 'Normal']"
   ]
  },
  {
   "cell_type": "code",
   "execution_count": null,
   "metadata": {},
   "outputs": [],
   "source": []
  },
  {
   "cell_type": "markdown",
   "metadata": {},
   "source": [
    "### Analyzing Weather and Season for traffic :"
   ]
  },
  {
   "cell_type": "code",
   "execution_count": 40,
   "metadata": {},
   "outputs": [
    {
     "data": {
      "text/plain": [
       "seasonDesc\n",
       "Fall      234.417124\n",
       "Spring    116.325512\n",
       "Summer    215.251372\n",
       "Winter    198.988296\n",
       "Name: count, dtype: float64"
      ]
     },
     "execution_count": 40,
     "metadata": {},
     "output_type": "execute_result"
    }
   ],
   "source": [
    "yu.groupby(['seasonDesc'])['count'].mean()"
   ]
  },
  {
   "cell_type": "code",
   "execution_count": 41,
   "metadata": {},
   "outputs": [
    {
     "data": {
      "text/plain": [
       "weatherDesc\n",
       "Clear         205.236791\n",
       "Cloudy        178.955540\n",
       "LightRains    118.846333\n",
       "Name: count, dtype: float64"
      ]
     },
     "execution_count": 41,
     "metadata": {},
     "output_type": "execute_result"
    }
   ],
   "source": [
    "yu.groupby(['weatherDesc'])['count'].mean()"
   ]
  },
  {
   "cell_type": "code",
   "execution_count": 485,
   "metadata": {},
   "outputs": [
    {
     "data": {
      "image/png": "[encoded data removed]",
      "text/plain": [
       "<Figure size 576x432 with 1 Axes>"
      ]
     },
     "metadata": {
      "needs_background": "light"
     },
     "output_type": "display_data"
    }
   ],
   "source": [
    "fig = plt.figure(figsize =(8, 6))\n",
    "yu.groupby(['seasonDesc'])['count'].mean().plot(kind = 'barh',color = '#51A0F8')\n",
    "\n",
    "plt.xlabel(\"Customer Count\")\n",
    "plt.ylabel(\"Seasons\")\n",
    "plt.title(\"Average demand per Season\")\n",
    "plt.savefig('adps.png',transparent=True)\n",
    "plt.show()"
   ]
  },
  {
   "cell_type": "code",
   "execution_count": 401,
   "metadata": {},
   "outputs": [
    {
     "data": {
      "image/png": "[encoded data removed]",
      "text/plain": [
       "<Figure size 576x432 with 1 Axes>"
      ]
     },
     "metadata": {
      "needs_background": "light"
     },
     "output_type": "display_data"
    }
   ],
   "source": [
    "fig = plt.figure(figsize =(8, 6))\n",
    "yu.groupby(['weatherDesc'])['count'].mean().plot(kind = 'barh',color = '#51A0F8')\n",
    "\n",
    "plt.xlabel(\"Customer Count\")\n",
    "plt.ylabel(\"Weathers\")\n",
    "plt.title(\"Average demand per Weather\")\n",
    "plt.savefig('adpw.png',transparent=True)\n",
    "plt.show()"
   ]
  },
  {
   "cell_type": "code",
   "execution_count": 61,
   "metadata": {},
   "outputs": [
    {
     "data": {
      "text/html": [
       "<div>\n",
       "<style scoped>\n",
       "    .dataframe tbody tr th:only-of-type {\n",
       "        vertical-align: middle;\n",
       "    }\n",
       "\n",
       "    .dataframe tbody tr th {\n",
       "        vertical-align: top;\n",
       "    }\n",
       "\n",
       "    .dataframe thead th {\n",
       "        text-align: right;\n",
       "    }\n",
       "</style>\n",
       "<table border=\"1\" class=\"dataframe\">\n",
       "  <thead>\n",
       "    <tr style=\"text-align: right;\">\n",
       "      <th></th>\n",
       "      <th>seasonDesc</th>\n",
       "      <th>weatherDesc</th>\n",
       "      <th>avg_traffic</th>\n",
       "      <th>Season_Weather</th>\n",
       "    </tr>\n",
       "  </thead>\n",
       "  <tbody>\n",
       "    <tr>\n",
       "      <th>0</th>\n",
       "      <td>Fall</td>\n",
       "      <td>Clear</td>\n",
       "      <td>243.58</td>\n",
       "      <td>Fall &amp; Clear</td>\n",
       "    </tr>\n",
       "    <tr>\n",
       "      <th>6</th>\n",
       "      <td>Summer</td>\n",
       "      <td>Clear</td>\n",
       "      <td>236.73</td>\n",
       "      <td>Summer &amp; Clear</td>\n",
       "    </tr>\n",
       "    <tr>\n",
       "      <th>1</th>\n",
       "      <td>Fall</td>\n",
       "      <td>Cloudy</td>\n",
       "      <td>230.77</td>\n",
       "      <td>Fall &amp; Cloudy</td>\n",
       "    </tr>\n",
       "    <tr>\n",
       "      <th>9</th>\n",
       "      <td>Winter</td>\n",
       "      <td>Clear</td>\n",
       "      <td>209.51</td>\n",
       "      <td>Winter &amp; Clear</td>\n",
       "    </tr>\n",
       "    <tr>\n",
       "      <th>10</th>\n",
       "      <td>Winter</td>\n",
       "      <td>Cloudy</td>\n",
       "      <td>194.78</td>\n",
       "      <td>Winter &amp; Cloudy</td>\n",
       "    </tr>\n",
       "    <tr>\n",
       "      <th>7</th>\n",
       "      <td>Summer</td>\n",
       "      <td>Cloudy</td>\n",
       "      <td>189.52</td>\n",
       "      <td>Summer &amp; Cloudy</td>\n",
       "    </tr>\n",
       "    <tr>\n",
       "      <th>2</th>\n",
       "      <td>Fall</td>\n",
       "      <td>LightRains</td>\n",
       "      <td>156.58</td>\n",
       "      <td>Fall &amp; LightRains</td>\n",
       "    </tr>\n",
       "    <tr>\n",
       "      <th>11</th>\n",
       "      <td>Winter</td>\n",
       "      <td>LightRains</td>\n",
       "      <td>134.47</td>\n",
       "      <td>Winter &amp; LightRains</td>\n",
       "    </tr>\n",
       "    <tr>\n",
       "      <th>3</th>\n",
       "      <td>Spring</td>\n",
       "      <td>Clear</td>\n",
       "      <td>126.78</td>\n",
       "      <td>Spring &amp; Clear</td>\n",
       "    </tr>\n",
       "    <tr>\n",
       "      <th>8</th>\n",
       "      <td>Summer</td>\n",
       "      <td>LightRains</td>\n",
       "      <td>123.91</td>\n",
       "      <td>Summer &amp; LightRains</td>\n",
       "    </tr>\n",
       "    <tr>\n",
       "      <th>4</th>\n",
       "      <td>Spring</td>\n",
       "      <td>Cloudy</td>\n",
       "      <td>106.86</td>\n",
       "      <td>Spring &amp; Cloudy</td>\n",
       "    </tr>\n",
       "    <tr>\n",
       "      <th>5</th>\n",
       "      <td>Spring</td>\n",
       "      <td>LightRains</td>\n",
       "      <td>61.23</td>\n",
       "      <td>Spring &amp; LightRains</td>\n",
       "    </tr>\n",
       "  </tbody>\n",
       "</table>\n",
       "</div>"
      ],
      "text/plain": [
       "   seasonDesc weatherDesc  avg_traffic       Season_Weather\n",
       "0        Fall       Clear       243.58         Fall & Clear\n",
       "6      Summer       Clear       236.73       Summer & Clear\n",
       "1        Fall      Cloudy       230.77        Fall & Cloudy\n",
       "9      Winter       Clear       209.51       Winter & Clear\n",
       "10     Winter      Cloudy       194.78      Winter & Cloudy\n",
       "7      Summer      Cloudy       189.52      Summer & Cloudy\n",
       "2        Fall  LightRains       156.58    Fall & LightRains\n",
       "11     Winter  LightRains       134.47  Winter & LightRains\n",
       "3      Spring       Clear       126.78       Spring & Clear\n",
       "8      Summer  LightRains       123.91  Summer & LightRains\n",
       "4      Spring      Cloudy       106.86      Spring & Cloudy\n",
       "5      Spring  LightRains        61.23  Spring & LightRains"
      ]
     },
     "execution_count": 61,
     "metadata": {},
     "output_type": "execute_result"
    }
   ],
   "source": [
    "SWC = yu.groupby(['seasonDesc','weatherDesc'])['count'].mean().reset_index()\n",
    "SWC = SWC.rename(columns = {'count':'avg_traffic'})\n",
    "SWC = SWC.sort_values(by = 'avg_traffic', ascending = False).round(2)\n",
    "SWC['Season_Weather'] = SWC['seasonDesc'] + ' & ' + SWC['weatherDesc']\n",
    "SWC"
   ]
  },
  {
   "cell_type": "code",
   "execution_count": 402,
   "metadata": {},
   "outputs": [
    {
     "name": "stderr",
     "output_type": "stream",
     "text": [
      "C:\\Users\\Vineet Pandya\\anaconda3\\lib\\site-packages\\seaborn\\_decorators.py:36: FutureWarning: Pass the following variables as keyword args: x, y. From version 0.12, the only valid positional argument will be `data`, and passing other arguments without an explicit keyword will result in an error or misinterpretation.\n",
      "  warnings.warn(\n"
     ]
    },
    {
     "data": {
      "image/png": "[encoded data removed]",
      "text/plain": [
       "<Figure size 1080x504 with 1 Axes>"
      ]
     },
     "metadata": {
      "needs_background": "light"
     },
     "output_type": "display_data"
    }
   ],
   "source": [
    "plt.figure(figsize = (15,7))\n",
    "\n",
    "y = SWC['Season_Weather'].tolist()\n",
    "x = SWC['avg_traffic'].tolist()\n",
    "\n",
    "#y = SWC['Season_Weather'].tolist()[::-1]\n",
    "#x = SWC['avg_traffic'].tolist()[::-1]\n",
    "\n",
    "paletteBlue = sns.color_palette(\"Blues_d\", n_colors = len(x))\n",
    "paletteBlue.reverse()\n",
    "\n",
    "sns.barplot(x, y, palette=paletteBlue)\n",
    "\n",
    "plt.ylabel(\"Season & Weather\")\n",
    "plt.xlabel(\"People Count\")\n",
    "plt.title(\"Average Demand per Season-Weather\")\n",
    "plt.savefig('adps_w.png',transparent=True)\n",
    "plt.show()"
   ]
  },
  {
   "attachments": {},
   "cell_type": "markdown",
   "metadata": {},
   "source": [
    "    - Majority Yulu customers prefer a clear weather on almost all the seasons except spring.\n",
    "\n",
    "    - The second most preferred weather is cloudy, followed by light rains.\n",
    "\n",
    "    - A clear or cloudy weather in either Fall or Winter attracts the highest number of  customers at Yulu.\n"
   ]
  },
  {
   "cell_type": "code",
   "execution_count": 62,
   "metadata": {},
   "outputs": [
    {
     "data": {
      "text/html": [
       "<div>\n",
       "<style scoped>\n",
       "    .dataframe tbody tr th:only-of-type {\n",
       "        vertical-align: middle;\n",
       "    }\n",
       "\n",
       "    .dataframe tbody tr th {\n",
       "        vertical-align: top;\n",
       "    }\n",
       "\n",
       "    .dataframe thead th {\n",
       "        text-align: right;\n",
       "    }\n",
       "</style>\n",
       "<table border=\"1\" class=\"dataframe\">\n",
       "  <thead>\n",
       "    <tr style=\"text-align: right;\">\n",
       "      <th></th>\n",
       "      <th>seasonDesc</th>\n",
       "      <th>weatherDesc</th>\n",
       "      <th>days</th>\n",
       "    </tr>\n",
       "  </thead>\n",
       "  <tbody>\n",
       "    <tr>\n",
       "      <th>0</th>\n",
       "      <td>Fall</td>\n",
       "      <td>Clear</td>\n",
       "      <td>1930</td>\n",
       "    </tr>\n",
       "    <tr>\n",
       "      <th>1</th>\n",
       "      <td>Spring</td>\n",
       "      <td>Clear</td>\n",
       "      <td>1759</td>\n",
       "    </tr>\n",
       "    <tr>\n",
       "      <th>2</th>\n",
       "      <td>Summer</td>\n",
       "      <td>Clear</td>\n",
       "      <td>1801</td>\n",
       "    </tr>\n",
       "    <tr>\n",
       "      <th>3</th>\n",
       "      <td>Winter</td>\n",
       "      <td>Clear</td>\n",
       "      <td>1702</td>\n",
       "    </tr>\n",
       "    <tr>\n",
       "      <th>4</th>\n",
       "      <td>Fall</td>\n",
       "      <td>Cloudy</td>\n",
       "      <td>604</td>\n",
       "    </tr>\n",
       "    <tr>\n",
       "      <th>5</th>\n",
       "      <td>Spring</td>\n",
       "      <td>Cloudy</td>\n",
       "      <td>715</td>\n",
       "    </tr>\n",
       "    <tr>\n",
       "      <th>6</th>\n",
       "      <td>Summer</td>\n",
       "      <td>Cloudy</td>\n",
       "      <td>708</td>\n",
       "    </tr>\n",
       "    <tr>\n",
       "      <th>7</th>\n",
       "      <td>Winter</td>\n",
       "      <td>Cloudy</td>\n",
       "      <td>807</td>\n",
       "    </tr>\n",
       "    <tr>\n",
       "      <th>8</th>\n",
       "      <td>Fall</td>\n",
       "      <td>LightRains</td>\n",
       "      <td>199</td>\n",
       "    </tr>\n",
       "    <tr>\n",
       "      <th>9</th>\n",
       "      <td>Spring</td>\n",
       "      <td>LightRains</td>\n",
       "      <td>211</td>\n",
       "    </tr>\n",
       "    <tr>\n",
       "      <th>10</th>\n",
       "      <td>Summer</td>\n",
       "      <td>LightRains</td>\n",
       "      <td>224</td>\n",
       "    </tr>\n",
       "    <tr>\n",
       "      <th>11</th>\n",
       "      <td>Winter</td>\n",
       "      <td>LightRains</td>\n",
       "      <td>225</td>\n",
       "    </tr>\n",
       "  </tbody>\n",
       "</table>\n",
       "</div>"
      ],
      "text/plain": [
       "   seasonDesc weatherDesc  days\n",
       "0        Fall       Clear  1930\n",
       "1      Spring       Clear  1759\n",
       "2      Summer       Clear  1801\n",
       "3      Winter       Clear  1702\n",
       "4        Fall      Cloudy   604\n",
       "5      Spring      Cloudy   715\n",
       "6      Summer      Cloudy   708\n",
       "7      Winter      Cloudy   807\n",
       "8        Fall  LightRains   199\n",
       "9      Spring  LightRains   211\n",
       "10     Summer  LightRains   224\n",
       "11     Winter  LightRains   225"
      ]
     },
     "execution_count": 62,
     "metadata": {},
     "output_type": "execute_result"
    }
   ],
   "source": [
    "SW = pd.crosstab(yu['seasonDesc'],yu['weatherDesc']).reset_index()\n",
    "seasonlist = SW.columns.tolist()\n",
    "seasonlist.remove('seasonDesc')\n",
    "SW = pd.melt(SW, id_vars =['seasonDesc'], value_vars = seasonlist)\n",
    "SW = SW.rename(columns = {'value':'days'})\n",
    "SW"
   ]
  },
  {
   "cell_type": "code",
   "execution_count": 70,
   "metadata": {},
   "outputs": [
    {
     "data": {
      "text/html": [
       "<div>\n",
       "<style scoped>\n",
       "    .dataframe tbody tr th:only-of-type {\n",
       "        vertical-align: middle;\n",
       "    }\n",
       "\n",
       "    .dataframe tbody tr th {\n",
       "        vertical-align: top;\n",
       "    }\n",
       "\n",
       "    .dataframe thead th {\n",
       "        text-align: right;\n",
       "    }\n",
       "</style>\n",
       "<table border=\"1\" class=\"dataframe\">\n",
       "  <thead>\n",
       "    <tr style=\"text-align: right;\">\n",
       "      <th></th>\n",
       "      <th>Season_Weather</th>\n",
       "      <th>avg_traffic</th>\n",
       "      <th>days</th>\n",
       "      <th>prob</th>\n",
       "    </tr>\n",
       "  </thead>\n",
       "  <tbody>\n",
       "    <tr>\n",
       "      <th>6</th>\n",
       "      <td>Fall &amp; LightRains</td>\n",
       "      <td>156.58</td>\n",
       "      <td>199</td>\n",
       "      <td>0.79</td>\n",
       "    </tr>\n",
       "    <tr>\n",
       "      <th>7</th>\n",
       "      <td>Winter &amp; LightRains</td>\n",
       "      <td>134.47</td>\n",
       "      <td>225</td>\n",
       "      <td>0.60</td>\n",
       "    </tr>\n",
       "    <tr>\n",
       "      <th>9</th>\n",
       "      <td>Summer &amp; LightRains</td>\n",
       "      <td>123.91</td>\n",
       "      <td>224</td>\n",
       "      <td>0.55</td>\n",
       "    </tr>\n",
       "    <tr>\n",
       "      <th>2</th>\n",
       "      <td>Fall &amp; Cloudy</td>\n",
       "      <td>230.77</td>\n",
       "      <td>604</td>\n",
       "      <td>0.38</td>\n",
       "    </tr>\n",
       "    <tr>\n",
       "      <th>11</th>\n",
       "      <td>Spring &amp; LightRains</td>\n",
       "      <td>61.23</td>\n",
       "      <td>211</td>\n",
       "      <td>0.29</td>\n",
       "    </tr>\n",
       "    <tr>\n",
       "      <th>5</th>\n",
       "      <td>Summer &amp; Cloudy</td>\n",
       "      <td>189.52</td>\n",
       "      <td>708</td>\n",
       "      <td>0.27</td>\n",
       "    </tr>\n",
       "    <tr>\n",
       "      <th>4</th>\n",
       "      <td>Winter &amp; Cloudy</td>\n",
       "      <td>194.78</td>\n",
       "      <td>807</td>\n",
       "      <td>0.24</td>\n",
       "    </tr>\n",
       "    <tr>\n",
       "      <th>10</th>\n",
       "      <td>Spring &amp; Cloudy</td>\n",
       "      <td>106.86</td>\n",
       "      <td>715</td>\n",
       "      <td>0.15</td>\n",
       "    </tr>\n",
       "    <tr>\n",
       "      <th>1</th>\n",
       "      <td>Summer &amp; Clear</td>\n",
       "      <td>236.73</td>\n",
       "      <td>1801</td>\n",
       "      <td>0.13</td>\n",
       "    </tr>\n",
       "    <tr>\n",
       "      <th>0</th>\n",
       "      <td>Fall &amp; Clear</td>\n",
       "      <td>243.58</td>\n",
       "      <td>1930</td>\n",
       "      <td>0.13</td>\n",
       "    </tr>\n",
       "    <tr>\n",
       "      <th>3</th>\n",
       "      <td>Winter &amp; Clear</td>\n",
       "      <td>209.51</td>\n",
       "      <td>1702</td>\n",
       "      <td>0.12</td>\n",
       "    </tr>\n",
       "    <tr>\n",
       "      <th>8</th>\n",
       "      <td>Spring &amp; Clear</td>\n",
       "      <td>126.78</td>\n",
       "      <td>1759</td>\n",
       "      <td>0.07</td>\n",
       "    </tr>\n",
       "  </tbody>\n",
       "</table>\n",
       "</div>"
      ],
      "text/plain": [
       "         Season_Weather  avg_traffic  days  prob\n",
       "6     Fall & LightRains       156.58   199  0.79\n",
       "7   Winter & LightRains       134.47   225  0.60\n",
       "9   Summer & LightRains       123.91   224  0.55\n",
       "2         Fall & Cloudy       230.77   604  0.38\n",
       "11  Spring & LightRains        61.23   211  0.29\n",
       "5       Summer & Cloudy       189.52   708  0.27\n",
       "4       Winter & Cloudy       194.78   807  0.24\n",
       "10      Spring & Cloudy       106.86   715  0.15\n",
       "1        Summer & Clear       236.73  1801  0.13\n",
       "0          Fall & Clear       243.58  1930  0.13\n",
       "3        Winter & Clear       209.51  1702  0.12\n",
       "8        Spring & Clear       126.78  1759  0.07"
      ]
     },
     "execution_count": 70,
     "metadata": {},
     "output_type": "execute_result"
    }
   ],
   "source": [
    "avgPr = pd.merge(SWC,SW, on = ['seasonDesc','weatherDesc'], how = 'inner')\n",
    "avgPr['prob'] = avgPr['avg_traffic']/avgPr['days']\n",
    "avgPr = avgPr.sort_values(by = 'prob', ascending = False).round(2)[['Season_Weather','avg_traffic','days','prob']]\n",
    "avgPr"
   ]
  },
  {
   "cell_type": "code",
   "execution_count": 403,
   "metadata": {},
   "outputs": [
    {
     "name": "stderr",
     "output_type": "stream",
     "text": [
      "C:\\Users\\Vineet Pandya\\anaconda3\\lib\\site-packages\\seaborn\\_decorators.py:36: FutureWarning: Pass the following variables as keyword args: x, y. From version 0.12, the only valid positional argument will be `data`, and passing other arguments without an explicit keyword will result in an error or misinterpretation.\n",
      "  warnings.warn(\n"
     ]
    },
    {
     "data": {
      "image/png": "[encoded data removed]",
      "text/plain": [
       "<Figure size 1080x504 with 1 Axes>"
      ]
     },
     "metadata": {
      "needs_background": "light"
     },
     "output_type": "display_data"
    }
   ],
   "source": [
    "plt.figure(figsize = (15,7))\n",
    "\n",
    "y = avgPr['Season_Weather'].tolist()\n",
    "x = avgPr['prob'].tolist()\n",
    "\n",
    "#y = SWC['Season_Weather'].tolist()[::-1]\n",
    "#x = SWC['avg_traffic'].tolist()[::-1]\n",
    "\n",
    "paletteBlue = sns.color_palette(\"Blues_d\", n_colors = len(x))\n",
    "paletteBlue.reverse()\n",
    "\n",
    "sns.barplot(x, y, palette=paletteBlue)\n",
    "\n",
    "plt.ylabel(\"Season & Weather\")\n",
    "plt.xlabel(\"Probability\")\n",
    "plt.title(\"Probability per Season-Weather\")\n",
    "plt.savefig('prob_sw.png',transparent=True)\n",
    "plt.show()"
   ]
  },
  {
   "attachments": {},
   "cell_type": "markdown",
   "metadata": {},
   "source": [
    "    - Although the customer count during light rains is less, we find that there is the highest probability of a customer to ride a Yulu bike during light rains with 80% !!\n",
    "\n",
    "    - In fact, light rains make the customers use Yulu in almost every season.\n",
    "\n",
    "    - Second most probable condition is a cloudy day during the Fall."
   ]
  },
  {
   "cell_type": "markdown",
   "metadata": {},
   "source": [
    "### Analyzing Weather and Season with Working days :"
   ]
  },
  {
   "cell_type": "code",
   "execution_count": 132,
   "metadata": {},
   "outputs": [
    {
     "data": {
      "text/html": [
       "<div>\n",
       "<style scoped>\n",
       "    .dataframe tbody tr th:only-of-type {\n",
       "        vertical-align: middle;\n",
       "    }\n",
       "\n",
       "    .dataframe tbody tr th {\n",
       "        vertical-align: top;\n",
       "    }\n",
       "\n",
       "    .dataframe thead th {\n",
       "        text-align: right;\n",
       "    }\n",
       "</style>\n",
       "<table border=\"1\" class=\"dataframe\">\n",
       "  <thead>\n",
       "    <tr style=\"text-align: right;\">\n",
       "      <th></th>\n",
       "      <th>weatherDesc</th>\n",
       "      <th>workingdayDesc</th>\n",
       "      <th>count</th>\n",
       "    </tr>\n",
       "  </thead>\n",
       "  <tbody>\n",
       "    <tr>\n",
       "      <th>1</th>\n",
       "      <td>Clear</td>\n",
       "      <td>Working</td>\n",
       "      <td>206.16</td>\n",
       "    </tr>\n",
       "    <tr>\n",
       "      <th>0</th>\n",
       "      <td>Clear</td>\n",
       "      <td>Not Working</td>\n",
       "      <td>203.35</td>\n",
       "    </tr>\n",
       "    <tr>\n",
       "      <th>3</th>\n",
       "      <td>Cloudy</td>\n",
       "      <td>Working</td>\n",
       "      <td>184.71</td>\n",
       "    </tr>\n",
       "    <tr>\n",
       "      <th>2</th>\n",
       "      <td>Cloudy</td>\n",
       "      <td>Not Working</td>\n",
       "      <td>166.53</td>\n",
       "    </tr>\n",
       "    <tr>\n",
       "      <th>4</th>\n",
       "      <td>LightRains</td>\n",
       "      <td>Not Working</td>\n",
       "      <td>120.63</td>\n",
       "    </tr>\n",
       "    <tr>\n",
       "      <th>5</th>\n",
       "      <td>LightRains</td>\n",
       "      <td>Working</td>\n",
       "      <td>118.22</td>\n",
       "    </tr>\n",
       "  </tbody>\n",
       "</table>\n",
       "</div>"
      ],
      "text/plain": [
       "  weatherDesc workingdayDesc   count\n",
       "1       Clear        Working  206.16\n",
       "0       Clear    Not Working  203.35\n",
       "3      Cloudy        Working  184.71\n",
       "2      Cloudy    Not Working  166.53\n",
       "4  LightRains    Not Working  120.63\n",
       "5  LightRains        Working  118.22"
      ]
     },
     "execution_count": 132,
     "metadata": {},
     "output_type": "execute_result"
    }
   ],
   "source": [
    "WW = yu.groupby(['weatherDesc','workingdayDesc'])['count'].mean().reset_index().sort_values(by = 'count', ascending = False).round(2)\n",
    "WW"
   ]
  },
  {
   "cell_type": "code",
   "execution_count": 136,
   "metadata": {},
   "outputs": [
    {
     "data": {
      "text/plain": [
       "workingdayDesc\n",
       "Not Working    164.0\n",
       "Working        170.0\n",
       "Name: count, dtype: float64"
      ]
     },
     "execution_count": 136,
     "metadata": {},
     "output_type": "execute_result"
    }
   ],
   "source": [
    "WW.groupby(['workingdayDesc'])['count'].mean().round()"
   ]
  },
  {
   "cell_type": "markdown",
   "metadata": {},
   "source": [
    "    - We do not see any significant difference of working/non working days for any weather as such. Clear skies are most preferred by the customers.\n",
    "    \n",
    "    - However, looking at each season, we find that during cloudy weather, demand decreases by 10% on a non working day."
   ]
  },
  {
   "cell_type": "code",
   "execution_count": 134,
   "metadata": {},
   "outputs": [
    {
     "data": {
      "text/html": [
       "<div>\n",
       "<style scoped>\n",
       "    .dataframe tbody tr th:only-of-type {\n",
       "        vertical-align: middle;\n",
       "    }\n",
       "\n",
       "    .dataframe tbody tr th {\n",
       "        vertical-align: top;\n",
       "    }\n",
       "\n",
       "    .dataframe thead th {\n",
       "        text-align: right;\n",
       "    }\n",
       "</style>\n",
       "<table border=\"1\" class=\"dataframe\">\n",
       "  <thead>\n",
       "    <tr style=\"text-align: right;\">\n",
       "      <th></th>\n",
       "      <th>seasonDesc</th>\n",
       "      <th>workingdayDesc</th>\n",
       "      <th>count</th>\n",
       "    </tr>\n",
       "  </thead>\n",
       "  <tbody>\n",
       "    <tr>\n",
       "      <th>1</th>\n",
       "      <td>Fall</td>\n",
       "      <td>Working</td>\n",
       "      <td>235.33</td>\n",
       "    </tr>\n",
       "    <tr>\n",
       "      <th>0</th>\n",
       "      <td>Fall</td>\n",
       "      <td>Not Working</td>\n",
       "      <td>232.52</td>\n",
       "    </tr>\n",
       "    <tr>\n",
       "      <th>4</th>\n",
       "      <td>Summer</td>\n",
       "      <td>Not Working</td>\n",
       "      <td>222.69</td>\n",
       "    </tr>\n",
       "    <tr>\n",
       "      <th>5</th>\n",
       "      <td>Summer</td>\n",
       "      <td>Working</td>\n",
       "      <td>211.95</td>\n",
       "    </tr>\n",
       "    <tr>\n",
       "      <th>7</th>\n",
       "      <td>Winter</td>\n",
       "      <td>Working</td>\n",
       "      <td>202.28</td>\n",
       "    </tr>\n",
       "    <tr>\n",
       "      <th>6</th>\n",
       "      <td>Winter</td>\n",
       "      <td>Not Working</td>\n",
       "      <td>192.14</td>\n",
       "    </tr>\n",
       "    <tr>\n",
       "      <th>3</th>\n",
       "      <td>Spring</td>\n",
       "      <td>Working</td>\n",
       "      <td>121.30</td>\n",
       "    </tr>\n",
       "    <tr>\n",
       "      <th>2</th>\n",
       "      <td>Spring</td>\n",
       "      <td>Not Working</td>\n",
       "      <td>105.73</td>\n",
       "    </tr>\n",
       "  </tbody>\n",
       "</table>\n",
       "</div>"
      ],
      "text/plain": [
       "  seasonDesc workingdayDesc   count\n",
       "1       Fall        Working  235.33\n",
       "0       Fall    Not Working  232.52\n",
       "4     Summer    Not Working  222.69\n",
       "5     Summer        Working  211.95\n",
       "7     Winter        Working  202.28\n",
       "6     Winter    Not Working  192.14\n",
       "3     Spring        Working  121.30\n",
       "2     Spring    Not Working  105.73"
      ]
     },
     "execution_count": 134,
     "metadata": {},
     "output_type": "execute_result"
    }
   ],
   "source": [
    "WC = yu.groupby(['seasonDesc','workingdayDesc'])['count'].mean().reset_index().sort_values(by = 'count', ascending = False).round(2)\n",
    "WC"
   ]
  },
  {
   "cell_type": "code",
   "execution_count": 137,
   "metadata": {},
   "outputs": [
    {
     "data": {
      "text/plain": [
       "workingdayDesc\n",
       "Not Working    188.0\n",
       "Working        193.0\n",
       "Name: count, dtype: float64"
      ]
     },
     "execution_count": 137,
     "metadata": {},
     "output_type": "execute_result"
    }
   ],
   "source": [
    "WC.groupby(['workingdayDesc'])['count'].mean().round()"
   ]
  },
  {
   "cell_type": "markdown",
   "metadata": {},
   "source": [
    "    - We do not see any significant difference of working/non working days for any season as such. Fall and Summer are most preferred seasons by the customers.\n",
    "    \n",
    "    - However, looking at each season, we find that during the summers, traffic increases by around 5% on a non working day, which is an opposite trend, considering the fact that traffic should actually decrease durign non working days.\n",
    "    \n",
    "    "
   ]
  },
  {
   "cell_type": "markdown",
   "metadata": {},
   "source": [
    "### Months & Day Time analysis :"
   ]
  },
  {
   "cell_type": "code",
   "execution_count": 140,
   "metadata": {},
   "outputs": [],
   "source": [
    "TZ = pd.DataFrame({'dayperiod':['EarlyMorning','Morning','Afternoon','Evening','Night','LateNight'],\n",
    "                  'Timings':['4:00 am-7:59 am','8:00 am-11:59 am','12:00 pm-4:59 pm','5:00 pm-7:59 pm','8:00 pm-11:59 pm','12:00 am-3:59 am']})"
   ]
  },
  {
   "cell_type": "code",
   "execution_count": 141,
   "metadata": {},
   "outputs": [
    {
     "data": {
      "text/html": [
       "<div>\n",
       "<style scoped>\n",
       "    .dataframe tbody tr th:only-of-type {\n",
       "        vertical-align: middle;\n",
       "    }\n",
       "\n",
       "    .dataframe tbody tr th {\n",
       "        vertical-align: top;\n",
       "    }\n",
       "\n",
       "    .dataframe thead th {\n",
       "        text-align: right;\n",
       "    }\n",
       "</style>\n",
       "<table border=\"1\" class=\"dataframe\">\n",
       "  <thead>\n",
       "    <tr style=\"text-align: right;\">\n",
       "      <th></th>\n",
       "      <th>dayperiod</th>\n",
       "      <th>Timings</th>\n",
       "    </tr>\n",
       "  </thead>\n",
       "  <tbody>\n",
       "    <tr>\n",
       "      <th>0</th>\n",
       "      <td>EarlyMorning</td>\n",
       "      <td>4:00 am-7:59 am</td>\n",
       "    </tr>\n",
       "    <tr>\n",
       "      <th>1</th>\n",
       "      <td>Morning</td>\n",
       "      <td>8:00 am-11:59 am</td>\n",
       "    </tr>\n",
       "    <tr>\n",
       "      <th>2</th>\n",
       "      <td>Afternoon</td>\n",
       "      <td>12:00 pm-4:59 pm</td>\n",
       "    </tr>\n",
       "    <tr>\n",
       "      <th>3</th>\n",
       "      <td>Evening</td>\n",
       "      <td>5:00 pm-7:59 pm</td>\n",
       "    </tr>\n",
       "    <tr>\n",
       "      <th>4</th>\n",
       "      <td>Night</td>\n",
       "      <td>8:00 pm-11:59 pm</td>\n",
       "    </tr>\n",
       "    <tr>\n",
       "      <th>5</th>\n",
       "      <td>LateNight</td>\n",
       "      <td>12:00 am-3:59 am</td>\n",
       "    </tr>\n",
       "  </tbody>\n",
       "</table>\n",
       "</div>"
      ],
      "text/plain": [
       "      dayperiod           Timings\n",
       "0  EarlyMorning   4:00 am-7:59 am\n",
       "1       Morning  8:00 am-11:59 am\n",
       "2     Afternoon  12:00 pm-4:59 pm\n",
       "3       Evening   5:00 pm-7:59 pm\n",
       "4         Night  8:00 pm-11:59 pm\n",
       "5     LateNight  12:00 am-3:59 am"
      ]
     },
     "execution_count": 141,
     "metadata": {},
     "output_type": "execute_result"
    }
   ],
   "source": [
    "TZ"
   ]
  },
  {
   "cell_type": "code",
   "execution_count": 143,
   "metadata": {},
   "outputs": [
    {
     "data": {
      "text/html": [
       "<div>\n",
       "<style scoped>\n",
       "    .dataframe tbody tr th:only-of-type {\n",
       "        vertical-align: middle;\n",
       "    }\n",
       "\n",
       "    .dataframe tbody tr th {\n",
       "        vertical-align: top;\n",
       "    }\n",
       "\n",
       "    .dataframe thead th {\n",
       "        text-align: right;\n",
       "    }\n",
       "</style>\n",
       "<table border=\"1\" class=\"dataframe\">\n",
       "  <thead>\n",
       "    <tr style=\"text-align: right;\">\n",
       "      <th></th>\n",
       "      <th>date</th>\n",
       "      <th>time</th>\n",
       "      <th>year</th>\n",
       "      <th>month</th>\n",
       "      <th>day</th>\n",
       "      <th>dayperiod</th>\n",
       "      <th>weatherDesc</th>\n",
       "      <th>seasonDesc</th>\n",
       "      <th>holidayDesc</th>\n",
       "      <th>workingdayDesc</th>\n",
       "      <th>...</th>\n",
       "      <th>temp</th>\n",
       "      <th>atemp</th>\n",
       "      <th>windspeed</th>\n",
       "      <th>humidity</th>\n",
       "      <th>casual</th>\n",
       "      <th>registered</th>\n",
       "      <th>count</th>\n",
       "      <th>casual%</th>\n",
       "      <th>registered%</th>\n",
       "      <th>traffic</th>\n",
       "    </tr>\n",
       "  </thead>\n",
       "  <tbody>\n",
       "    <tr>\n",
       "      <th>0</th>\n",
       "      <td>2011-01-01</td>\n",
       "      <td>00:00:00</td>\n",
       "      <td>2011</td>\n",
       "      <td>Jan</td>\n",
       "      <td>1</td>\n",
       "      <td>LateNight</td>\n",
       "      <td>Clear</td>\n",
       "      <td>Spring</td>\n",
       "      <td>Not Holiday</td>\n",
       "      <td>Not Working</td>\n",
       "      <td>...</td>\n",
       "      <td>9.84</td>\n",
       "      <td>14.395</td>\n",
       "      <td>0.0</td>\n",
       "      <td>81</td>\n",
       "      <td>3</td>\n",
       "      <td>13</td>\n",
       "      <td>16</td>\n",
       "      <td>18.75</td>\n",
       "      <td>81.25</td>\n",
       "      <td>Normal</td>\n",
       "    </tr>\n",
       "    <tr>\n",
       "      <th>1</th>\n",
       "      <td>2011-01-01</td>\n",
       "      <td>01:00:00</td>\n",
       "      <td>2011</td>\n",
       "      <td>Jan</td>\n",
       "      <td>1</td>\n",
       "      <td>LateNight</td>\n",
       "      <td>Clear</td>\n",
       "      <td>Spring</td>\n",
       "      <td>Not Holiday</td>\n",
       "      <td>Not Working</td>\n",
       "      <td>...</td>\n",
       "      <td>9.02</td>\n",
       "      <td>13.635</td>\n",
       "      <td>0.0</td>\n",
       "      <td>80</td>\n",
       "      <td>8</td>\n",
       "      <td>32</td>\n",
       "      <td>40</td>\n",
       "      <td>20.00</td>\n",
       "      <td>80.00</td>\n",
       "      <td>Normal</td>\n",
       "    </tr>\n",
       "    <tr>\n",
       "      <th>2</th>\n",
       "      <td>2011-01-01</td>\n",
       "      <td>02:00:00</td>\n",
       "      <td>2011</td>\n",
       "      <td>Jan</td>\n",
       "      <td>1</td>\n",
       "      <td>LateNight</td>\n",
       "      <td>Clear</td>\n",
       "      <td>Spring</td>\n",
       "      <td>Not Holiday</td>\n",
       "      <td>Not Working</td>\n",
       "      <td>...</td>\n",
       "      <td>9.02</td>\n",
       "      <td>13.635</td>\n",
       "      <td>0.0</td>\n",
       "      <td>80</td>\n",
       "      <td>5</td>\n",
       "      <td>27</td>\n",
       "      <td>32</td>\n",
       "      <td>15.62</td>\n",
       "      <td>84.38</td>\n",
       "      <td>Normal</td>\n",
       "    </tr>\n",
       "  </tbody>\n",
       "</table>\n",
       "<p>3 rows × 21 columns</p>\n",
       "</div>"
      ],
      "text/plain": [
       "         date      time  year month  day  dayperiod weatherDesc seasonDesc  \\\n",
       "0  2011-01-01  00:00:00  2011   Jan    1  LateNight       Clear     Spring   \n",
       "1  2011-01-01  01:00:00  2011   Jan    1  LateNight       Clear     Spring   \n",
       "2  2011-01-01  02:00:00  2011   Jan    1  LateNight       Clear     Spring   \n",
       "\n",
       "   holidayDesc workingdayDesc  ...  temp   atemp  windspeed  humidity  casual  \\\n",
       "0  Not Holiday    Not Working  ...  9.84  14.395        0.0        81       3   \n",
       "1  Not Holiday    Not Working  ...  9.02  13.635        0.0        80       8   \n",
       "2  Not Holiday    Not Working  ...  9.02  13.635        0.0        80       5   \n",
       "\n",
       "   registered  count  casual%  registered%  traffic  \n",
       "0          13     16    18.75        81.25   Normal  \n",
       "1          32     40    20.00        80.00   Normal  \n",
       "2          27     32    15.62        84.38   Normal  \n",
       "\n",
       "[3 rows x 21 columns]"
      ]
     },
     "execution_count": 143,
     "metadata": {},
     "output_type": "execute_result"
    }
   ],
   "source": [
    "yu.head(3)"
   ]
  },
  {
   "cell_type": "code",
   "execution_count": 120,
   "metadata": {},
   "outputs": [
    {
     "data": {
      "text/html": [
       "<div>\n",
       "<style scoped>\n",
       "    .dataframe tbody tr th:only-of-type {\n",
       "        vertical-align: middle;\n",
       "    }\n",
       "\n",
       "    .dataframe tbody tr th {\n",
       "        vertical-align: top;\n",
       "    }\n",
       "\n",
       "    .dataframe thead th {\n",
       "        text-align: right;\n",
       "    }\n",
       "</style>\n",
       "<table border=\"1\" class=\"dataframe\">\n",
       "  <thead>\n",
       "    <tr style=\"text-align: right;\">\n",
       "      <th></th>\n",
       "      <th>seasonDesc</th>\n",
       "      <th>month</th>\n",
       "      <th>count</th>\n",
       "      <th>surge_traffic%</th>\n",
       "    </tr>\n",
       "  </thead>\n",
       "  <tbody>\n",
       "    <tr>\n",
       "      <th>7</th>\n",
       "      <td>Summer</td>\n",
       "      <td>Jun</td>\n",
       "      <td>242.03</td>\n",
       "      <td>26.34</td>\n",
       "    </tr>\n",
       "    <tr>\n",
       "      <th>1</th>\n",
       "      <td>Fall</td>\n",
       "      <td>Jul</td>\n",
       "      <td>235.33</td>\n",
       "      <td>22.84</td>\n",
       "    </tr>\n",
       "    <tr>\n",
       "      <th>0</th>\n",
       "      <td>Fall</td>\n",
       "      <td>Aug</td>\n",
       "      <td>234.12</td>\n",
       "      <td>22.21</td>\n",
       "    </tr>\n",
       "    <tr>\n",
       "      <th>2</th>\n",
       "      <td>Fall</td>\n",
       "      <td>Sep</td>\n",
       "      <td>233.81</td>\n",
       "      <td>22.05</td>\n",
       "    </tr>\n",
       "    <tr>\n",
       "      <th>11</th>\n",
       "      <td>Winter</td>\n",
       "      <td>Oct</td>\n",
       "      <td>227.70</td>\n",
       "      <td>18.86</td>\n",
       "    </tr>\n",
       "    <tr>\n",
       "      <th>8</th>\n",
       "      <td>Summer</td>\n",
       "      <td>May</td>\n",
       "      <td>219.46</td>\n",
       "      <td>14.55</td>\n",
       "    </tr>\n",
       "    <tr>\n",
       "      <th>10</th>\n",
       "      <td>Winter</td>\n",
       "      <td>Nov</td>\n",
       "      <td>193.68</td>\n",
       "      <td>1.10</td>\n",
       "    </tr>\n",
       "    <tr>\n",
       "      <th>6</th>\n",
       "      <td>Summer</td>\n",
       "      <td>Apr</td>\n",
       "      <td>184.16</td>\n",
       "      <td>-3.87</td>\n",
       "    </tr>\n",
       "    <tr>\n",
       "      <th>9</th>\n",
       "      <td>Winter</td>\n",
       "      <td>Dec</td>\n",
       "      <td>175.61</td>\n",
       "      <td>-8.33</td>\n",
       "    </tr>\n",
       "    <tr>\n",
       "      <th>5</th>\n",
       "      <td>Spring</td>\n",
       "      <td>Mar</td>\n",
       "      <td>148.17</td>\n",
       "      <td>-22.66</td>\n",
       "    </tr>\n",
       "    <tr>\n",
       "      <th>3</th>\n",
       "      <td>Spring</td>\n",
       "      <td>Feb</td>\n",
       "      <td>110.00</td>\n",
       "      <td>-42.58</td>\n",
       "    </tr>\n",
       "    <tr>\n",
       "      <th>4</th>\n",
       "      <td>Spring</td>\n",
       "      <td>Jan</td>\n",
       "      <td>90.28</td>\n",
       "      <td>-52.88</td>\n",
       "    </tr>\n",
       "  </tbody>\n",
       "</table>\n",
       "</div>"
      ],
      "text/plain": [
       "   seasonDesc month   count  surge_traffic%\n",
       "7      Summer   Jun  242.03           26.34\n",
       "1        Fall   Jul  235.33           22.84\n",
       "0        Fall   Aug  234.12           22.21\n",
       "2        Fall   Sep  233.81           22.05\n",
       "11     Winter   Oct  227.70           18.86\n",
       "8      Summer   May  219.46           14.55\n",
       "10     Winter   Nov  193.68            1.10\n",
       "6      Summer   Apr  184.16           -3.87\n",
       "9      Winter   Dec  175.61           -8.33\n",
       "5      Spring   Mar  148.17          -22.66\n",
       "3      Spring   Feb  110.00          -42.58\n",
       "4      Spring   Jan   90.28          -52.88"
      ]
     },
     "execution_count": 120,
     "metadata": {},
     "output_type": "execute_result"
    }
   ],
   "source": [
    "MC = yu.groupby(['seasonDesc','month'])['count'].mean().reset_index().sort_values(by = 'count', ascending = False).round(2)\n",
    "MC['surge_traffic%'] = MC['count'].apply(lambda x:round((x - yu['count'].mean())*100/yu['count'].mean(),2))\n",
    "MC"
   ]
  },
  {
   "cell_type": "code",
   "execution_count": 404,
   "metadata": {},
   "outputs": [
    {
     "name": "stderr",
     "output_type": "stream",
     "text": [
      "C:\\Users\\Vineet Pandya\\anaconda3\\lib\\site-packages\\seaborn\\_decorators.py:36: FutureWarning: Pass the following variables as keyword args: x, y. From version 0.12, the only valid positional argument will be `data`, and passing other arguments without an explicit keyword will result in an error or misinterpretation.\n",
      "  warnings.warn(\n"
     ]
    },
    {
     "data": {
      "image/png": "[encoded data removed]",
      "text/plain": [
       "<Figure size 1080x504 with 1 Axes>"
      ]
     },
     "metadata": {
      "needs_background": "light"
     },
     "output_type": "display_data"
    }
   ],
   "source": [
    "plt.figure(figsize = (15,7))\n",
    "\n",
    "\n",
    "\n",
    "y = MC['month'].tolist()\n",
    "x = MC['surge_traffic%'].tolist()\n",
    "\n",
    "#y = SWC['Season_Weather'].tolist()[::-1]\n",
    "#x = SWC['avg_traffic'].tolist()[::-1]\n",
    "\n",
    "colorPalette = []\n",
    "for i in x:\n",
    "    if i > 0:\n",
    "        colorPalette.append('#76E628')\n",
    "    else:\n",
    "        colorPalette.append('r')\n",
    "\n",
    "        \n",
    "sns.barplot(x, y, palette=colorPalette)\n",
    "\n",
    "plt.ylabel(\"Months\")\n",
    "plt.xlabel(\"Percentage\")\n",
    "plt.title(\"Monthly Demand compared to Average Demand\")\n",
    "plt.savefig('MDAD.png',transparent=True)\n",
    "plt.show()"
   ]
  },
  {
   "cell_type": "markdown",
   "metadata": {},
   "source": [
    "    - Months from May to Oct see the above average demand in the customer count than the average demand, peaking at June with 26%\n",
    "    \n",
    "    - Jan, Feb and Mar sees the highest dip in customer demand on the same parameter, with demand dropping more than 50% in Jan."
   ]
  },
  {
   "cell_type": "code",
   "execution_count": 121,
   "metadata": {},
   "outputs": [
    {
     "data": {
      "text/html": [
       "<div>\n",
       "<style scoped>\n",
       "    .dataframe tbody tr th:only-of-type {\n",
       "        vertical-align: middle;\n",
       "    }\n",
       "\n",
       "    .dataframe tbody tr th {\n",
       "        vertical-align: top;\n",
       "    }\n",
       "\n",
       "    .dataframe thead th {\n",
       "        text-align: right;\n",
       "    }\n",
       "</style>\n",
       "<table border=\"1\" class=\"dataframe\">\n",
       "  <thead>\n",
       "    <tr style=\"text-align: right;\">\n",
       "      <th></th>\n",
       "      <th>dayperiod</th>\n",
       "      <th>count</th>\n",
       "      <th>surge_traffic%</th>\n",
       "    </tr>\n",
       "  </thead>\n",
       "  <tbody>\n",
       "    <tr>\n",
       "      <th>2</th>\n",
       "      <td>Evening</td>\n",
       "      <td>405.14</td>\n",
       "      <td>111.48</td>\n",
       "    </tr>\n",
       "    <tr>\n",
       "      <th>0</th>\n",
       "      <td>Afternoon</td>\n",
       "      <td>265.68</td>\n",
       "      <td>38.68</td>\n",
       "    </tr>\n",
       "    <tr>\n",
       "      <th>4</th>\n",
       "      <td>Morning</td>\n",
       "      <td>242.58</td>\n",
       "      <td>26.62</td>\n",
       "    </tr>\n",
       "    <tr>\n",
       "      <th>5</th>\n",
       "      <td>Night</td>\n",
       "      <td>156.24</td>\n",
       "      <td>-18.45</td>\n",
       "    </tr>\n",
       "    <tr>\n",
       "      <th>1</th>\n",
       "      <td>EarlyMorning</td>\n",
       "      <td>79.51</td>\n",
       "      <td>-58.50</td>\n",
       "    </tr>\n",
       "    <tr>\n",
       "      <th>3</th>\n",
       "      <td>LateNight</td>\n",
       "      <td>31.18</td>\n",
       "      <td>-83.72</td>\n",
       "    </tr>\n",
       "  </tbody>\n",
       "</table>\n",
       "</div>"
      ],
      "text/plain": [
       "      dayperiod   count  surge_traffic%\n",
       "2       Evening  405.14          111.48\n",
       "0     Afternoon  265.68           38.68\n",
       "4       Morning  242.58           26.62\n",
       "5         Night  156.24          -18.45\n",
       "1  EarlyMorning   79.51          -58.50\n",
       "3     LateNight   31.18          -83.72"
      ]
     },
     "execution_count": 121,
     "metadata": {},
     "output_type": "execute_result"
    }
   ],
   "source": [
    "DC = yu.groupby(['dayperiod'])['count'].mean().reset_index().sort_values(by = 'count', ascending = False).round(2)\n",
    "DC['surge_traffic%'] = DC['count'].apply(lambda x:round((x - yu['count'].mean())*100/yu['count'].mean(),2))\n",
    "DC"
   ]
  },
  {
   "cell_type": "code",
   "execution_count": 405,
   "metadata": {},
   "outputs": [
    {
     "name": "stderr",
     "output_type": "stream",
     "text": [
      "C:\\Users\\Vineet Pandya\\anaconda3\\lib\\site-packages\\seaborn\\_decorators.py:36: FutureWarning: Pass the following variables as keyword args: x, y. From version 0.12, the only valid positional argument will be `data`, and passing other arguments without an explicit keyword will result in an error or misinterpretation.\n",
      "  warnings.warn(\n"
     ]
    },
    {
     "data": {
      "image/png": "[encoded data removed]",
      "text/plain": [
       "<Figure size 1080x432 with 1 Axes>"
      ]
     },
     "metadata": {
      "needs_background": "light"
     },
     "output_type": "display_data"
    }
   ],
   "source": [
    "plt.figure(figsize = (15,6))\n",
    "\n",
    "\n",
    "\n",
    "y = DC['dayperiod'].tolist()\n",
    "x = DC['surge_traffic%'].tolist()\n",
    "\n",
    "#y = SWC['Season_Weather'].tolist()[::-1]\n",
    "#x = SWC['avg_traffic'].tolist()[::-1]\n",
    "\n",
    "colorPalette = []\n",
    "for i in x:\n",
    "    if i > 0:\n",
    "        colorPalette.append('#76E628')\n",
    "    else:\n",
    "        colorPalette.append('r')\n",
    "        \n",
    "\n",
    "sns.barplot(x, y, palette=colorPalette)\n",
    "\n",
    "plt.ylabel(\"Day Period\")\n",
    "plt.xlabel(\"Percentage\")\n",
    "plt.title(\"Demand during the Day compared to Average Demand\")\n",
    "plt.savefig('DDAD.png',transparent=True)\n",
    "plt.show()"
   ]
  },
  {
   "cell_type": "markdown",
   "metadata": {},
   "source": [
    "    - Evening time (5pm to 8pm) sees the above average demand in the customer count than the average demand, at 111%.\n",
    "    \n",
    "    - Customer demand slumps after 8pm until 8 am, which is on expected lines."
   ]
  },
  {
   "cell_type": "code",
   "execution_count": 201,
   "metadata": {},
   "outputs": [
    {
     "data": {
      "text/html": [
       "<div>\n",
       "<style scoped>\n",
       "    .dataframe tbody tr th:only-of-type {\n",
       "        vertical-align: middle;\n",
       "    }\n",
       "\n",
       "    .dataframe tbody tr th {\n",
       "        vertical-align: top;\n",
       "    }\n",
       "\n",
       "    .dataframe thead th {\n",
       "        text-align: right;\n",
       "    }\n",
       "</style>\n",
       "<table border=\"1\" class=\"dataframe\">\n",
       "  <thead>\n",
       "    <tr style=\"text-align: right;\">\n",
       "      <th></th>\n",
       "      <th>Season_Dayperiod</th>\n",
       "      <th>count</th>\n",
       "      <th>surge_traffic%</th>\n",
       "    </tr>\n",
       "  </thead>\n",
       "  <tbody>\n",
       "    <tr>\n",
       "      <th>2</th>\n",
       "      <td>Fall &amp; Evening</td>\n",
       "      <td>505.99</td>\n",
       "      <td>164.12</td>\n",
       "    </tr>\n",
       "    <tr>\n",
       "      <th>14</th>\n",
       "      <td>Summer &amp; Evening</td>\n",
       "      <td>470.60</td>\n",
       "      <td>145.65</td>\n",
       "    </tr>\n",
       "    <tr>\n",
       "      <th>20</th>\n",
       "      <td>Winter &amp; Evening</td>\n",
       "      <td>403.98</td>\n",
       "      <td>110.87</td>\n",
       "    </tr>\n",
       "    <tr>\n",
       "      <th>0</th>\n",
       "      <td>Fall &amp; Afternoon</td>\n",
       "      <td>312.81</td>\n",
       "      <td>63.28</td>\n",
       "    </tr>\n",
       "    <tr>\n",
       "      <th>12</th>\n",
       "      <td>Summer &amp; Afternoon</td>\n",
       "      <td>298.51</td>\n",
       "      <td>55.82</td>\n",
       "    </tr>\n",
       "    <tr>\n",
       "      <th>18</th>\n",
       "      <td>Winter &amp; Afternoon</td>\n",
       "      <td>288.57</td>\n",
       "      <td>50.63</td>\n",
       "    </tr>\n",
       "    <tr>\n",
       "      <th>4</th>\n",
       "      <td>Fall &amp; Morning</td>\n",
       "      <td>282.41</td>\n",
       "      <td>47.41</td>\n",
       "    </tr>\n",
       "    <tr>\n",
       "      <th>16</th>\n",
       "      <td>Summer &amp; Morning</td>\n",
       "      <td>265.57</td>\n",
       "      <td>38.62</td>\n",
       "    </tr>\n",
       "    <tr>\n",
       "      <th>22</th>\n",
       "      <td>Winter &amp; Morning</td>\n",
       "      <td>263.45</td>\n",
       "      <td>37.52</td>\n",
       "    </tr>\n",
       "    <tr>\n",
       "      <th>8</th>\n",
       "      <td>Spring &amp; Evening</td>\n",
       "      <td>239.53</td>\n",
       "      <td>25.03</td>\n",
       "    </tr>\n",
       "    <tr>\n",
       "      <th>5</th>\n",
       "      <td>Fall &amp; Night</td>\n",
       "      <td>211.59</td>\n",
       "      <td>10.45</td>\n",
       "    </tr>\n",
       "    <tr>\n",
       "      <th>17</th>\n",
       "      <td>Summer &amp; Night</td>\n",
       "      <td>180.61</td>\n",
       "      <td>-5.72</td>\n",
       "    </tr>\n",
       "    <tr>\n",
       "      <th>6</th>\n",
       "      <td>Spring &amp; Afternoon</td>\n",
       "      <td>162.84</td>\n",
       "      <td>-15.00</td>\n",
       "    </tr>\n",
       "    <tr>\n",
       "      <th>10</th>\n",
       "      <td>Spring &amp; Morning</td>\n",
       "      <td>158.14</td>\n",
       "      <td>-17.45</td>\n",
       "    </tr>\n",
       "    <tr>\n",
       "      <th>23</th>\n",
       "      <td>Winter &amp; Night</td>\n",
       "      <td>148.29</td>\n",
       "      <td>-22.59</td>\n",
       "    </tr>\n",
       "    <tr>\n",
       "      <th>1</th>\n",
       "      <td>Fall &amp; EarlyMorning</td>\n",
       "      <td>98.66</td>\n",
       "      <td>-48.50</td>\n",
       "    </tr>\n",
       "    <tr>\n",
       "      <th>13</th>\n",
       "      <td>Summer &amp; EarlyMorning</td>\n",
       "      <td>85.74</td>\n",
       "      <td>-55.25</td>\n",
       "    </tr>\n",
       "    <tr>\n",
       "      <th>19</th>\n",
       "      <td>Winter &amp; EarlyMorning</td>\n",
       "      <td>85.69</td>\n",
       "      <td>-55.27</td>\n",
       "    </tr>\n",
       "    <tr>\n",
       "      <th>11</th>\n",
       "      <td>Spring &amp; Night</td>\n",
       "      <td>84.48</td>\n",
       "      <td>-55.90</td>\n",
       "    </tr>\n",
       "    <tr>\n",
       "      <th>7</th>\n",
       "      <td>Spring &amp; EarlyMorning</td>\n",
       "      <td>46.59</td>\n",
       "      <td>-75.68</td>\n",
       "    </tr>\n",
       "    <tr>\n",
       "      <th>3</th>\n",
       "      <td>Fall &amp; LateNight</td>\n",
       "      <td>42.07</td>\n",
       "      <td>-78.04</td>\n",
       "    </tr>\n",
       "    <tr>\n",
       "      <th>15</th>\n",
       "      <td>Summer &amp; LateNight</td>\n",
       "      <td>32.42</td>\n",
       "      <td>-83.08</td>\n",
       "    </tr>\n",
       "    <tr>\n",
       "      <th>21</th>\n",
       "      <td>Winter &amp; LateNight</td>\n",
       "      <td>32.07</td>\n",
       "      <td>-83.26</td>\n",
       "    </tr>\n",
       "    <tr>\n",
       "      <th>9</th>\n",
       "      <td>Spring &amp; LateNight</td>\n",
       "      <td>17.42</td>\n",
       "      <td>-90.91</td>\n",
       "    </tr>\n",
       "  </tbody>\n",
       "</table>\n",
       "</div>"
      ],
      "text/plain": [
       "         Season_Dayperiod   count  surge_traffic%\n",
       "2          Fall & Evening  505.99          164.12\n",
       "14       Summer & Evening  470.60          145.65\n",
       "20       Winter & Evening  403.98          110.87\n",
       "0        Fall & Afternoon  312.81           63.28\n",
       "12     Summer & Afternoon  298.51           55.82\n",
       "18     Winter & Afternoon  288.57           50.63\n",
       "4          Fall & Morning  282.41           47.41\n",
       "16       Summer & Morning  265.57           38.62\n",
       "22       Winter & Morning  263.45           37.52\n",
       "8        Spring & Evening  239.53           25.03\n",
       "5            Fall & Night  211.59           10.45\n",
       "17         Summer & Night  180.61           -5.72\n",
       "6      Spring & Afternoon  162.84          -15.00\n",
       "10       Spring & Morning  158.14          -17.45\n",
       "23         Winter & Night  148.29          -22.59\n",
       "1     Fall & EarlyMorning   98.66          -48.50\n",
       "13  Summer & EarlyMorning   85.74          -55.25\n",
       "19  Winter & EarlyMorning   85.69          -55.27\n",
       "11         Spring & Night   84.48          -55.90\n",
       "7   Spring & EarlyMorning   46.59          -75.68\n",
       "3        Fall & LateNight   42.07          -78.04\n",
       "15     Summer & LateNight   32.42          -83.08\n",
       "21     Winter & LateNight   32.07          -83.26\n",
       "9      Spring & LateNight   17.42          -90.91"
      ]
     },
     "execution_count": 201,
     "metadata": {},
     "output_type": "execute_result"
    }
   ],
   "source": [
    "SDC = yu.groupby(['seasonDesc','dayperiod'])['count'].mean().reset_index().sort_values(by = 'count', ascending = False).round(2)\n",
    "SDC['surge_traffic%'] = SDC['count'].apply(lambda x:round((x - yu['count'].mean())*100/yu['count'].mean(),2))\n",
    "SDC['Season_Dayperiod'] = SDC['seasonDesc'] + ' & ' + SDC['dayperiod']\n",
    "SDC = SDC[['Season_Dayperiod','count','surge_traffic%']]\n",
    "SDC"
   ]
  },
  {
   "cell_type": "code",
   "execution_count": 406,
   "metadata": {},
   "outputs": [
    {
     "name": "stderr",
     "output_type": "stream",
     "text": [
      "C:\\Users\\Vineet Pandya\\anaconda3\\lib\\site-packages\\seaborn\\_decorators.py:36: FutureWarning: Pass the following variables as keyword args: x, y. From version 0.12, the only valid positional argument will be `data`, and passing other arguments without an explicit keyword will result in an error or misinterpretation.\n",
      "  warnings.warn(\n"
     ]
    },
    {
     "data": {
      "image/png": "[encoded data removed]",
      "text/plain": [
       "<Figure size 1080x648 with 1 Axes>"
      ]
     },
     "metadata": {
      "needs_background": "light"
     },
     "output_type": "display_data"
    }
   ],
   "source": [
    "plt.figure(figsize = (15,9))\n",
    "\n",
    "y = SDC['Season_Dayperiod'].tolist()\n",
    "x = SDC['surge_traffic%'].tolist()\n",
    "\n",
    "#y = SWC['Season_Weather'].tolist()[::-1]\n",
    "#x = SWC['avg_traffic'].tolist()[::-1]\n",
    "\n",
    "colorPalette = []\n",
    "for i in x:\n",
    "    if i > 0:\n",
    "        colorPalette.append('#76E628')\n",
    "    else:\n",
    "        colorPalette.append('r')\n",
    "\n",
    "sns.barplot(x, y, palette=colorPalette)\n",
    "\n",
    "plt.ylabel(\"Day Period\")\n",
    "plt.xlabel(\"Percentage\")\n",
    "plt.title(\"Demand during the Day compared to Average Demand\")\n",
    "plt.savefig('DDAD_S.png',transparent=True)\n",
    "plt.show()"
   ]
  },
  {
   "cell_type": "markdown",
   "metadata": {},
   "source": [
    "    - Evening time sees the surge in demand in all the seasons than the average demand, followed by Afternoon time. Fall & Evening sees the highest jump with 164%, followed by Summer evening and Winter evening at 145% and 111% respectively\n",
    "    \n",
    "    - The only time afternoon time sees a slump is during Spring season.\n",
    "    \n",
    "    - Summer and winter mornings (8am to 12 noon) are also very unpopular for Yulu Bikes.\n",
    "    \n",
    "    - Jan, Feb and Mar sees the highest dip in customer demand on the same parameter, with demand dropping more than 50% in Jan."
   ]
  },
  {
   "cell_type": "code",
   "execution_count": 123,
   "metadata": {},
   "outputs": [
    {
     "data": {
      "text/html": [
       "<div>\n",
       "<style scoped>\n",
       "    .dataframe tbody tr th:only-of-type {\n",
       "        vertical-align: middle;\n",
       "    }\n",
       "\n",
       "    .dataframe tbody tr th {\n",
       "        vertical-align: top;\n",
       "    }\n",
       "\n",
       "    .dataframe thead th {\n",
       "        text-align: right;\n",
       "    }\n",
       "</style>\n",
       "<table border=\"1\" class=\"dataframe\">\n",
       "  <thead>\n",
       "    <tr style=\"text-align: right;\">\n",
       "      <th></th>\n",
       "      <th>date</th>\n",
       "      <th>time</th>\n",
       "      <th>year</th>\n",
       "      <th>month</th>\n",
       "      <th>day</th>\n",
       "      <th>dayperiod</th>\n",
       "      <th>weatherDesc</th>\n",
       "      <th>seasonDesc</th>\n",
       "      <th>holidayDesc</th>\n",
       "      <th>workingdayDesc</th>\n",
       "      <th>...</th>\n",
       "      <th>temp</th>\n",
       "      <th>atemp</th>\n",
       "      <th>windspeed</th>\n",
       "      <th>humidity</th>\n",
       "      <th>casual</th>\n",
       "      <th>registered</th>\n",
       "      <th>count</th>\n",
       "      <th>casual%</th>\n",
       "      <th>registered%</th>\n",
       "      <th>traffic</th>\n",
       "    </tr>\n",
       "  </thead>\n",
       "  <tbody>\n",
       "    <tr>\n",
       "      <th>0</th>\n",
       "      <td>2011-01-01</td>\n",
       "      <td>00:00:00</td>\n",
       "      <td>2011</td>\n",
       "      <td>Jan</td>\n",
       "      <td>1</td>\n",
       "      <td>LateNight</td>\n",
       "      <td>Clear</td>\n",
       "      <td>Spring</td>\n",
       "      <td>Not Holiday</td>\n",
       "      <td>Not Working</td>\n",
       "      <td>...</td>\n",
       "      <td>9.84</td>\n",
       "      <td>14.395</td>\n",
       "      <td>0.0</td>\n",
       "      <td>81</td>\n",
       "      <td>3</td>\n",
       "      <td>13</td>\n",
       "      <td>16</td>\n",
       "      <td>18.75</td>\n",
       "      <td>81.25</td>\n",
       "      <td>Normal</td>\n",
       "    </tr>\n",
       "    <tr>\n",
       "      <th>1</th>\n",
       "      <td>2011-01-01</td>\n",
       "      <td>01:00:00</td>\n",
       "      <td>2011</td>\n",
       "      <td>Jan</td>\n",
       "      <td>1</td>\n",
       "      <td>LateNight</td>\n",
       "      <td>Clear</td>\n",
       "      <td>Spring</td>\n",
       "      <td>Not Holiday</td>\n",
       "      <td>Not Working</td>\n",
       "      <td>...</td>\n",
       "      <td>9.02</td>\n",
       "      <td>13.635</td>\n",
       "      <td>0.0</td>\n",
       "      <td>80</td>\n",
       "      <td>8</td>\n",
       "      <td>32</td>\n",
       "      <td>40</td>\n",
       "      <td>20.00</td>\n",
       "      <td>80.00</td>\n",
       "      <td>Normal</td>\n",
       "    </tr>\n",
       "  </tbody>\n",
       "</table>\n",
       "<p>2 rows × 21 columns</p>\n",
       "</div>"
      ],
      "text/plain": [
       "         date      time  year month  day  dayperiod weatherDesc seasonDesc  \\\n",
       "0  2011-01-01  00:00:00  2011   Jan    1  LateNight       Clear     Spring   \n",
       "1  2011-01-01  01:00:00  2011   Jan    1  LateNight       Clear     Spring   \n",
       "\n",
       "   holidayDesc workingdayDesc  ...  temp   atemp  windspeed  humidity  casual  \\\n",
       "0  Not Holiday    Not Working  ...  9.84  14.395        0.0        81       3   \n",
       "1  Not Holiday    Not Working  ...  9.02  13.635        0.0        80       8   \n",
       "\n",
       "   registered  count  casual%  registered%  traffic  \n",
       "0          13     16    18.75        81.25   Normal  \n",
       "1          32     40    20.00        80.00   Normal  \n",
       "\n",
       "[2 rows x 21 columns]"
      ]
     },
     "execution_count": 123,
     "metadata": {},
     "output_type": "execute_result"
    }
   ],
   "source": [
    "yu.head(2)"
   ]
  },
  {
   "cell_type": "code",
   "execution_count": 232,
   "metadata": {},
   "outputs": [
    {
     "data": {
      "text/html": [
       "<div>\n",
       "<style scoped>\n",
       "    .dataframe tbody tr th:only-of-type {\n",
       "        vertical-align: middle;\n",
       "    }\n",
       "\n",
       "    .dataframe tbody tr th {\n",
       "        vertical-align: top;\n",
       "    }\n",
       "\n",
       "    .dataframe thead th {\n",
       "        text-align: right;\n",
       "    }\n",
       "</style>\n",
       "<table border=\"1\" class=\"dataframe\">\n",
       "  <thead>\n",
       "    <tr style=\"text-align: right;\">\n",
       "      <th></th>\n",
       "      <th>dayperiod</th>\n",
       "      <th>Working</th>\n",
       "      <th>NotWorking</th>\n",
       "    </tr>\n",
       "  </thead>\n",
       "  <tbody>\n",
       "    <tr>\n",
       "      <th>0</th>\n",
       "      <td>Evening</td>\n",
       "      <td>458.31</td>\n",
       "      <td>291.24</td>\n",
       "    </tr>\n",
       "    <tr>\n",
       "      <th>1</th>\n",
       "      <td>Morning</td>\n",
       "      <td>253.21</td>\n",
       "      <td>219.84</td>\n",
       "    </tr>\n",
       "    <tr>\n",
       "      <th>2</th>\n",
       "      <td>Afternoon</td>\n",
       "      <td>213.59</td>\n",
       "      <td>377.40</td>\n",
       "    </tr>\n",
       "    <tr>\n",
       "      <th>3</th>\n",
       "      <td>Night</td>\n",
       "      <td>165.39</td>\n",
       "      <td>136.63</td>\n",
       "    </tr>\n",
       "    <tr>\n",
       "      <th>4</th>\n",
       "      <td>EarlyMorning</td>\n",
       "      <td>106.85</td>\n",
       "      <td>21.36</td>\n",
       "    </tr>\n",
       "    <tr>\n",
       "      <th>5</th>\n",
       "      <td>LateNight</td>\n",
       "      <td>16.75</td>\n",
       "      <td>61.51</td>\n",
       "    </tr>\n",
       "  </tbody>\n",
       "</table>\n",
       "</div>"
      ],
      "text/plain": [
       "      dayperiod  Working  NotWorking\n",
       "0       Evening   458.31      291.24\n",
       "1       Morning   253.21      219.84\n",
       "2     Afternoon   213.59      377.40\n",
       "3         Night   165.39      136.63\n",
       "4  EarlyMorning   106.85       21.36\n",
       "5     LateNight    16.75       61.51"
      ]
     },
     "execution_count": 232,
     "metadata": {},
     "output_type": "execute_result"
    }
   ],
   "source": [
    "WDC = yu.groupby(['workingdayDesc','dayperiod'])['count'].mean().reset_index().sort_values(by = 'count', ascending = False).round(2)\n",
    "WDCW = WDC[WDC['workingdayDesc'] == 'Working']\n",
    "WDCN = WDC[WDC['workingdayDesc'] == 'Not Working']\n",
    "\n",
    "WDCW = WDCW.rename(columns = {'count':'Working'})\n",
    "WDCN = WDCN.rename(columns = {'count':'NotWorking'})\n",
    "\n",
    "WDC = pd.merge(WDCW, WDCN, on = ['dayperiod'], how = 'inner').drop(['workingdayDesc_x','workingdayDesc_y'],axis=1)\n",
    "WDC"
   ]
  },
  {
   "cell_type": "code",
   "execution_count": 407,
   "metadata": {},
   "outputs": [
    {
     "data": {
      "image/png": "[encoded data removed]",
      "text/plain": [
       "<Figure size 1080x432 with 1 Axes>"
      ]
     },
     "metadata": {
      "needs_background": "light"
     },
     "output_type": "display_data"
    }
   ],
   "source": [
    "plt.figure(figsize = (15,6))\n",
    "\n",
    "X = WDC2['dayperiod'].tolist()\n",
    "Y = WDC2['Working'].tolist()\n",
    "Z = WDC2['NotWorking'].tolist()\n",
    "\n",
    "X_axis = np.arange(len(X))\n",
    "  \n",
    "colW = ['#41ADE3','#41ADE3','#41ADE3','#41ADE3','#41ADE3','#41ADE3']   \n",
    "colN = ['#90D85A','#90D85A','#F3713D','#90D85A','#90D85A','#F3713D']   \n",
    "    \n",
    "plt.bar(X_axis - 0.2, Y, 0.4,color =colW, label = 'Working')\n",
    "plt.bar(X_axis + 0.2, Z, 0.4,color =colN, label = 'Not Working')\n",
    "  \n",
    "plt.xticks(X_axis, X)\n",
    "plt.xlabel(\"Period in the Day\")\n",
    "plt.ylabel(\"Customer Count\")\n",
    "plt.title(\"Average demand during the day for Working and Non Working days\")\n",
    "plt.savefig('ADDW.png',transparent=True)\n",
    "plt.legend()\n",
    "plt.show()"
   ]
  },
  {
   "cell_type": "markdown",
   "metadata": {},
   "source": [
    "    - The general trend is the expected one i.e. Evening, Morning and Afternoon are the day period with highest demand in Yulu Bikes, with late night hours and early morning hours is the time with least demand, with working days have higher demand than  non working days.\n",
    "    \n",
    "    - However, an interesting insight is the fact that the demand during afternoon hours is much higher on a holiday than a working day. Also, there is also a higher demand on a holiday for Yulu Bikes during late night hours compared to the working days.\n",
    "    \n",
    "    "
   ]
  },
  {
   "cell_type": "code",
   "execution_count": null,
   "metadata": {},
   "outputs": [],
   "source": []
  },
  {
   "cell_type": "markdown",
   "metadata": {},
   "source": [
    "### Quarterly and Yearly Trends :"
   ]
  },
  {
   "cell_type": "code",
   "execution_count": 236,
   "metadata": {},
   "outputs": [
    {
     "data": {
      "text/html": [
       "<div>\n",
       "<style scoped>\n",
       "    .dataframe tbody tr th:only-of-type {\n",
       "        vertical-align: middle;\n",
       "    }\n",
       "\n",
       "    .dataframe tbody tr th {\n",
       "        vertical-align: top;\n",
       "    }\n",
       "\n",
       "    .dataframe thead th {\n",
       "        text-align: right;\n",
       "    }\n",
       "</style>\n",
       "<table border=\"1\" class=\"dataframe\">\n",
       "  <thead>\n",
       "    <tr style=\"text-align: right;\">\n",
       "      <th></th>\n",
       "      <th>date</th>\n",
       "      <th>time</th>\n",
       "      <th>year</th>\n",
       "      <th>month</th>\n",
       "      <th>day</th>\n",
       "      <th>dayperiod</th>\n",
       "      <th>weatherDesc</th>\n",
       "      <th>seasonDesc</th>\n",
       "      <th>holidayDesc</th>\n",
       "      <th>workingdayDesc</th>\n",
       "      <th>...</th>\n",
       "      <th>temp</th>\n",
       "      <th>atemp</th>\n",
       "      <th>windspeed</th>\n",
       "      <th>humidity</th>\n",
       "      <th>casual</th>\n",
       "      <th>registered</th>\n",
       "      <th>count</th>\n",
       "      <th>casual%</th>\n",
       "      <th>registered%</th>\n",
       "      <th>traffic</th>\n",
       "    </tr>\n",
       "  </thead>\n",
       "  <tbody>\n",
       "    <tr>\n",
       "      <th>0</th>\n",
       "      <td>2011-01-01</td>\n",
       "      <td>00:00:00</td>\n",
       "      <td>2011</td>\n",
       "      <td>Jan</td>\n",
       "      <td>1</td>\n",
       "      <td>LateNight</td>\n",
       "      <td>Clear</td>\n",
       "      <td>Spring</td>\n",
       "      <td>Not Holiday</td>\n",
       "      <td>Not Working</td>\n",
       "      <td>...</td>\n",
       "      <td>9.84</td>\n",
       "      <td>14.395</td>\n",
       "      <td>0.0</td>\n",
       "      <td>81</td>\n",
       "      <td>3</td>\n",
       "      <td>13</td>\n",
       "      <td>16</td>\n",
       "      <td>18.75</td>\n",
       "      <td>81.25</td>\n",
       "      <td>Normal</td>\n",
       "    </tr>\n",
       "    <tr>\n",
       "      <th>1</th>\n",
       "      <td>2011-01-01</td>\n",
       "      <td>01:00:00</td>\n",
       "      <td>2011</td>\n",
       "      <td>Jan</td>\n",
       "      <td>1</td>\n",
       "      <td>LateNight</td>\n",
       "      <td>Clear</td>\n",
       "      <td>Spring</td>\n",
       "      <td>Not Holiday</td>\n",
       "      <td>Not Working</td>\n",
       "      <td>...</td>\n",
       "      <td>9.02</td>\n",
       "      <td>13.635</td>\n",
       "      <td>0.0</td>\n",
       "      <td>80</td>\n",
       "      <td>8</td>\n",
       "      <td>32</td>\n",
       "      <td>40</td>\n",
       "      <td>20.00</td>\n",
       "      <td>80.00</td>\n",
       "      <td>Normal</td>\n",
       "    </tr>\n",
       "  </tbody>\n",
       "</table>\n",
       "<p>2 rows × 21 columns</p>\n",
       "</div>"
      ],
      "text/plain": [
       "         date      time  year month  day  dayperiod weatherDesc seasonDesc  \\\n",
       "0  2011-01-01  00:00:00  2011   Jan    1  LateNight       Clear     Spring   \n",
       "1  2011-01-01  01:00:00  2011   Jan    1  LateNight       Clear     Spring   \n",
       "\n",
       "   holidayDesc workingdayDesc  ...  temp   atemp  windspeed  humidity  casual  \\\n",
       "0  Not Holiday    Not Working  ...  9.84  14.395        0.0        81       3   \n",
       "1  Not Holiday    Not Working  ...  9.02  13.635        0.0        80       8   \n",
       "\n",
       "   registered  count  casual%  registered%  traffic  \n",
       "0          13     16    18.75        81.25   Normal  \n",
       "1          32     40    20.00        80.00   Normal  \n",
       "\n",
       "[2 rows x 21 columns]"
      ]
     },
     "execution_count": 236,
     "metadata": {},
     "output_type": "execute_result"
    }
   ],
   "source": [
    "yu.head(2)"
   ]
  },
  {
   "cell_type": "code",
   "execution_count": 237,
   "metadata": {},
   "outputs": [],
   "source": [
    "def quarter(x):\n",
    "    if x in ('Jan','Feb','Mar'):\n",
    "        return 'Q4'\n",
    "    elif x in ('Apr','May','Jun'):\n",
    "        return 'Q1'\n",
    "    elif x in ('Jul','Aug','Sep'):\n",
    "        return 'Q2'\n",
    "    elif x in ('Oct','Nov','Dec'):\n",
    "        return 'Q3'"
   ]
  },
  {
   "cell_type": "code",
   "execution_count": 239,
   "metadata": {},
   "outputs": [
    {
     "name": "stderr",
     "output_type": "stream",
     "text": [
      "<ipython-input-239-6488e825f14b>:3: SettingWithCopyWarning: \n",
      "A value is trying to be set on a copy of a slice from a DataFrame.\n",
      "Try using .loc[row_indexer,col_indexer] = value instead\n",
      "\n",
      "See the caveats in the documentation: https://pandas.pydata.org/pandas-docs/stable/user_guide/indexing.html#returning-a-view-versus-a-copy\n",
      "  yu2['quarter'] = yu2['month'].apply(quarter)\n"
     ]
    },
    {
     "data": {
      "text/html": [
       "<div>\n",
       "<style scoped>\n",
       "    .dataframe tbody tr th:only-of-type {\n",
       "        vertical-align: middle;\n",
       "    }\n",
       "\n",
       "    .dataframe tbody tr th {\n",
       "        vertical-align: top;\n",
       "    }\n",
       "\n",
       "    .dataframe thead th {\n",
       "        text-align: right;\n",
       "    }\n",
       "</style>\n",
       "<table border=\"1\" class=\"dataframe\">\n",
       "  <thead>\n",
       "    <tr style=\"text-align: right;\">\n",
       "      <th></th>\n",
       "      <th>seasonDesc</th>\n",
       "      <th>date</th>\n",
       "      <th>year</th>\n",
       "      <th>month</th>\n",
       "      <th>temp</th>\n",
       "      <th>humidity</th>\n",
       "      <th>windspeed</th>\n",
       "      <th>count</th>\n",
       "      <th>quarter</th>\n",
       "    </tr>\n",
       "    <tr>\n",
       "      <th>date</th>\n",
       "      <th></th>\n",
       "      <th></th>\n",
       "      <th></th>\n",
       "      <th></th>\n",
       "      <th></th>\n",
       "      <th></th>\n",
       "      <th></th>\n",
       "      <th></th>\n",
       "      <th></th>\n",
       "    </tr>\n",
       "  </thead>\n",
       "  <tbody>\n",
       "    <tr>\n",
       "      <th>2011-01-01</th>\n",
       "      <td>Spring</td>\n",
       "      <td>2011-01-01</td>\n",
       "      <td>2011</td>\n",
       "      <td>Jan</td>\n",
       "      <td>9.84</td>\n",
       "      <td>81</td>\n",
       "      <td>0.0</td>\n",
       "      <td>16</td>\n",
       "      <td>Q4</td>\n",
       "    </tr>\n",
       "    <tr>\n",
       "      <th>2011-01-01</th>\n",
       "      <td>Spring</td>\n",
       "      <td>2011-01-01</td>\n",
       "      <td>2011</td>\n",
       "      <td>Jan</td>\n",
       "      <td>9.02</td>\n",
       "      <td>80</td>\n",
       "      <td>0.0</td>\n",
       "      <td>40</td>\n",
       "      <td>Q4</td>\n",
       "    </tr>\n",
       "    <tr>\n",
       "      <th>2011-01-01</th>\n",
       "      <td>Spring</td>\n",
       "      <td>2011-01-01</td>\n",
       "      <td>2011</td>\n",
       "      <td>Jan</td>\n",
       "      <td>9.02</td>\n",
       "      <td>80</td>\n",
       "      <td>0.0</td>\n",
       "      <td>32</td>\n",
       "      <td>Q4</td>\n",
       "    </tr>\n",
       "    <tr>\n",
       "      <th>2011-01-01</th>\n",
       "      <td>Spring</td>\n",
       "      <td>2011-01-01</td>\n",
       "      <td>2011</td>\n",
       "      <td>Jan</td>\n",
       "      <td>9.84</td>\n",
       "      <td>75</td>\n",
       "      <td>0.0</td>\n",
       "      <td>13</td>\n",
       "      <td>Q4</td>\n",
       "    </tr>\n",
       "    <tr>\n",
       "      <th>2011-01-01</th>\n",
       "      <td>Spring</td>\n",
       "      <td>2011-01-01</td>\n",
       "      <td>2011</td>\n",
       "      <td>Jan</td>\n",
       "      <td>9.84</td>\n",
       "      <td>75</td>\n",
       "      <td>0.0</td>\n",
       "      <td>1</td>\n",
       "      <td>Q4</td>\n",
       "    </tr>\n",
       "  </tbody>\n",
       "</table>\n",
       "</div>"
      ],
      "text/plain": [
       "           seasonDesc        date  year month  temp  humidity  windspeed  \\\n",
       "date                                                                       \n",
       "2011-01-01     Spring  2011-01-01  2011   Jan  9.84        81        0.0   \n",
       "2011-01-01     Spring  2011-01-01  2011   Jan  9.02        80        0.0   \n",
       "2011-01-01     Spring  2011-01-01  2011   Jan  9.02        80        0.0   \n",
       "2011-01-01     Spring  2011-01-01  2011   Jan  9.84        75        0.0   \n",
       "2011-01-01     Spring  2011-01-01  2011   Jan  9.84        75        0.0   \n",
       "\n",
       "            count quarter  \n",
       "date                       \n",
       "2011-01-01     16      Q4  \n",
       "2011-01-01     40      Q4  \n",
       "2011-01-01     32      Q4  \n",
       "2011-01-01     13      Q4  \n",
       "2011-01-01      1      Q4  "
      ]
     },
     "execution_count": 239,
     "metadata": {},
     "output_type": "execute_result"
    }
   ],
   "source": [
    "yu2 = yu[['seasonDesc','date','year','month','temp','humidity','windspeed','count']]\n",
    "yu2.index = yu['date']\n",
    "yu2['quarter'] = yu2['month'].apply(quarter)\n",
    "yu2.head()"
   ]
  },
  {
   "cell_type": "code",
   "execution_count": 242,
   "metadata": {},
   "outputs": [
    {
     "data": {
      "text/plain": [
       "<AxesSubplot:xlabel='date'>"
      ]
     },
     "execution_count": 242,
     "metadata": {},
     "output_type": "execute_result"
    },
    {
     "data": {
      "image/png": "[encoded data removed]",
      "text/plain": [
       "<Figure size 1296x288 with 1 Axes>"
      ]
     },
     "metadata": {
      "needs_background": "light"
     },
     "output_type": "display_data"
    }
   ],
   "source": [
    "fig = plt.figure(figsize =(18, 4))\n",
    "yu2['count'].plot()"
   ]
  },
  {
   "cell_type": "code",
   "execution_count": 243,
   "metadata": {},
   "outputs": [
    {
     "data": {
      "text/plain": [
       "<AxesSubplot:xlabel='date'>"
      ]
     },
     "execution_count": 243,
     "metadata": {},
     "output_type": "execute_result"
    },
    {
     "data": {
      "image/png": "[encoded data removed]",
      "text/plain": [
       "<Figure size 1296x288 with 1 Axes>"
      ]
     },
     "metadata": {
      "needs_background": "light"
     },
     "output_type": "display_data"
    }
   ],
   "source": [
    "fig = plt.figure(figsize =(18, 4))\n",
    "yu2['temp'].plot(color = 'r')"
   ]
  },
  {
   "cell_type": "code",
   "execution_count": 244,
   "metadata": {},
   "outputs": [
    {
     "data": {
      "text/plain": [
       "<AxesSubplot:xlabel='date'>"
      ]
     },
     "execution_count": 244,
     "metadata": {},
     "output_type": "execute_result"
    },
    {
     "data": {
      "image/png": "[encoded data removed]",
      "text/plain": [
       "<Figure size 1296x288 with 1 Axes>"
      ]
     },
     "metadata": {
      "needs_background": "light"
     },
     "output_type": "display_data"
    }
   ],
   "source": [
    "fig = plt.figure(figsize =(18, 4))\n",
    "yu2['humidity'].plot(color = 'y')"
   ]
  },
  {
   "cell_type": "code",
   "execution_count": 245,
   "metadata": {},
   "outputs": [
    {
     "data": {
      "text/plain": [
       "<AxesSubplot:xlabel='date'>"
      ]
     },
     "execution_count": 245,
     "metadata": {},
     "output_type": "execute_result"
    },
    {
     "data": {
      "image/png": "[encoded data removed]",
      "text/plain": [
       "<Figure size 1296x288 with 1 Axes>"
      ]
     },
     "metadata": {
      "needs_background": "light"
     },
     "output_type": "display_data"
    }
   ],
   "source": [
    "fig = plt.figure(figsize =(18, 4))\n",
    "yu2['windspeed'].plot(color = 'g')"
   ]
  },
  {
   "cell_type": "code",
   "execution_count": 247,
   "metadata": {},
   "outputs": [
    {
     "data": {
      "text/plain": [
       "2012    5463\n",
       "2011    5422\n",
       "Name: year, dtype: int64"
      ]
     },
     "execution_count": 247,
     "metadata": {},
     "output_type": "execute_result"
    }
   ],
   "source": [
    "yu2['year'].value_counts()"
   ]
  },
  {
   "cell_type": "code",
   "execution_count": 248,
   "metadata": {},
   "outputs": [],
   "source": [
    "yu2011 = yu2[yu2['year'] == 2011]\n",
    "yu2012 = yu2[yu2['year'] == 2012]"
   ]
  },
  {
   "cell_type": "code",
   "execution_count": 250,
   "metadata": {},
   "outputs": [
    {
     "data": {
      "text/html": [
       "<div>\n",
       "<style scoped>\n",
       "    .dataframe tbody tr th:only-of-type {\n",
       "        vertical-align: middle;\n",
       "    }\n",
       "\n",
       "    .dataframe tbody tr th {\n",
       "        vertical-align: top;\n",
       "    }\n",
       "\n",
       "    .dataframe thead th {\n",
       "        text-align: right;\n",
       "    }\n",
       "</style>\n",
       "<table border=\"1\" class=\"dataframe\">\n",
       "  <thead>\n",
       "    <tr style=\"text-align: right;\">\n",
       "      <th></th>\n",
       "      <th>seasonDesc</th>\n",
       "      <th>quarter</th>\n",
       "      <th>count</th>\n",
       "    </tr>\n",
       "  </thead>\n",
       "  <tbody>\n",
       "    <tr>\n",
       "      <th>2</th>\n",
       "      <td>Summer</td>\n",
       "      <td>Q1</td>\n",
       "      <td>160.94</td>\n",
       "    </tr>\n",
       "    <tr>\n",
       "      <th>0</th>\n",
       "      <td>Fall</td>\n",
       "      <td>Q2</td>\n",
       "      <td>186.99</td>\n",
       "    </tr>\n",
       "    <tr>\n",
       "      <th>3</th>\n",
       "      <td>Winter</td>\n",
       "      <td>Q3</td>\n",
       "      <td>154.79</td>\n",
       "    </tr>\n",
       "    <tr>\n",
       "      <th>1</th>\n",
       "      <td>Spring</td>\n",
       "      <td>Q4</td>\n",
       "      <td>71.91</td>\n",
       "    </tr>\n",
       "  </tbody>\n",
       "</table>\n",
       "</div>"
      ],
      "text/plain": [
       "  seasonDesc quarter   count\n",
       "2     Summer      Q1  160.94\n",
       "0       Fall      Q2  186.99\n",
       "3     Winter      Q3  154.79\n",
       "1     Spring      Q4   71.91"
      ]
     },
     "execution_count": 250,
     "metadata": {},
     "output_type": "execute_result"
    }
   ],
   "source": [
    "Q_2011 = yu2011.groupby(['seasonDesc','quarter'])['count'].mean().reset_index().sort_values(by = 'quarter', ascending = True).round(2)\n",
    "Q_2011"
   ]
  },
  {
   "cell_type": "code",
   "execution_count": 251,
   "metadata": {},
   "outputs": [
    {
     "data": {
      "text/html": [
       "<div>\n",
       "<style scoped>\n",
       "    .dataframe tbody tr th:only-of-type {\n",
       "        vertical-align: middle;\n",
       "    }\n",
       "\n",
       "    .dataframe tbody tr th {\n",
       "        vertical-align: top;\n",
       "    }\n",
       "\n",
       "    .dataframe thead th {\n",
       "        text-align: right;\n",
       "    }\n",
       "</style>\n",
       "<table border=\"1\" class=\"dataframe\">\n",
       "  <thead>\n",
       "    <tr style=\"text-align: right;\">\n",
       "      <th></th>\n",
       "      <th>seasonDesc</th>\n",
       "      <th>quarter</th>\n",
       "      <th>count</th>\n",
       "    </tr>\n",
       "  </thead>\n",
       "  <tbody>\n",
       "    <tr>\n",
       "      <th>2</th>\n",
       "      <td>Summer</td>\n",
       "      <td>Q1</td>\n",
       "      <td>269.60</td>\n",
       "    </tr>\n",
       "    <tr>\n",
       "      <th>0</th>\n",
       "      <td>Fall</td>\n",
       "      <td>Q2</td>\n",
       "      <td>281.74</td>\n",
       "    </tr>\n",
       "    <tr>\n",
       "      <th>3</th>\n",
       "      <td>Winter</td>\n",
       "      <td>Q3</td>\n",
       "      <td>243.19</td>\n",
       "    </tr>\n",
       "    <tr>\n",
       "      <th>1</th>\n",
       "      <td>Spring</td>\n",
       "      <td>Q4</td>\n",
       "      <td>159.47</td>\n",
       "    </tr>\n",
       "  </tbody>\n",
       "</table>\n",
       "</div>"
      ],
      "text/plain": [
       "  seasonDesc quarter   count\n",
       "2     Summer      Q1  269.60\n",
       "0       Fall      Q2  281.74\n",
       "3     Winter      Q3  243.19\n",
       "1     Spring      Q4  159.47"
      ]
     },
     "execution_count": 251,
     "metadata": {},
     "output_type": "execute_result"
    }
   ],
   "source": [
    "Q_2012 = yu2012.groupby(['seasonDesc','quarter'])['count'].mean().reset_index().sort_values(by = 'quarter', ascending = True).round(2)\n",
    "Q_2012"
   ]
  },
  {
   "cell_type": "code",
   "execution_count": 252,
   "metadata": {},
   "outputs": [
    {
     "data": {
      "text/html": [
       "<div>\n",
       "<style scoped>\n",
       "    .dataframe tbody tr th:only-of-type {\n",
       "        vertical-align: middle;\n",
       "    }\n",
       "\n",
       "    .dataframe tbody tr th {\n",
       "        vertical-align: top;\n",
       "    }\n",
       "\n",
       "    .dataframe thead th {\n",
       "        text-align: right;\n",
       "    }\n",
       "</style>\n",
       "<table border=\"1\" class=\"dataframe\">\n",
       "  <thead>\n",
       "    <tr style=\"text-align: right;\">\n",
       "      <th></th>\n",
       "      <th>seasonDesc</th>\n",
       "      <th>quarter</th>\n",
       "      <th>count</th>\n",
       "      <th>QoQ%</th>\n",
       "    </tr>\n",
       "  </thead>\n",
       "  <tbody>\n",
       "    <tr>\n",
       "      <th>2</th>\n",
       "      <td>Summer</td>\n",
       "      <td>Q1</td>\n",
       "      <td>160.94</td>\n",
       "      <td>0.0</td>\n",
       "    </tr>\n",
       "    <tr>\n",
       "      <th>0</th>\n",
       "      <td>Fall</td>\n",
       "      <td>Q2</td>\n",
       "      <td>186.99</td>\n",
       "      <td>14.0</td>\n",
       "    </tr>\n",
       "    <tr>\n",
       "      <th>3</th>\n",
       "      <td>Winter</td>\n",
       "      <td>Q3</td>\n",
       "      <td>154.79</td>\n",
       "      <td>-21.0</td>\n",
       "    </tr>\n",
       "    <tr>\n",
       "      <th>1</th>\n",
       "      <td>Spring</td>\n",
       "      <td>Q4</td>\n",
       "      <td>71.91</td>\n",
       "      <td>-115.0</td>\n",
       "    </tr>\n",
       "  </tbody>\n",
       "</table>\n",
       "</div>"
      ],
      "text/plain": [
       "  seasonDesc quarter   count   QoQ%\n",
       "2     Summer      Q1  160.94    0.0\n",
       "0       Fall      Q2  186.99   14.0\n",
       "3     Winter      Q3  154.79  -21.0\n",
       "1     Spring      Q4   71.91 -115.0"
      ]
     },
     "execution_count": 252,
     "metadata": {},
     "output_type": "execute_result"
    }
   ],
   "source": [
    "Q_2011['c2'] = [np.nan] + Q_2011.iloc[:3,:]['count'].tolist()\n",
    "Q_2011['QoQ%'] = (Q_2011['count'] - Q_2011['c2'])*100/Q_2011['count']\n",
    "Q_2011['QoQ%'] = Q_2011['QoQ%'].fillna(0).round()\n",
    "Q_2011 = Q_2011.drop('c2',axis=1)\n",
    "Q_2011"
   ]
  },
  {
   "cell_type": "code",
   "execution_count": 253,
   "metadata": {},
   "outputs": [
    {
     "data": {
      "text/html": [
       "<div>\n",
       "<style scoped>\n",
       "    .dataframe tbody tr th:only-of-type {\n",
       "        vertical-align: middle;\n",
       "    }\n",
       "\n",
       "    .dataframe tbody tr th {\n",
       "        vertical-align: top;\n",
       "    }\n",
       "\n",
       "    .dataframe thead th {\n",
       "        text-align: right;\n",
       "    }\n",
       "</style>\n",
       "<table border=\"1\" class=\"dataframe\">\n",
       "  <thead>\n",
       "    <tr style=\"text-align: right;\">\n",
       "      <th></th>\n",
       "      <th>seasonDesc</th>\n",
       "      <th>quarter</th>\n",
       "      <th>count</th>\n",
       "      <th>QoQ%</th>\n",
       "    </tr>\n",
       "  </thead>\n",
       "  <tbody>\n",
       "    <tr>\n",
       "      <th>2</th>\n",
       "      <td>Summer</td>\n",
       "      <td>Q1</td>\n",
       "      <td>269.60</td>\n",
       "      <td>0.0</td>\n",
       "    </tr>\n",
       "    <tr>\n",
       "      <th>0</th>\n",
       "      <td>Fall</td>\n",
       "      <td>Q2</td>\n",
       "      <td>281.74</td>\n",
       "      <td>6.0</td>\n",
       "    </tr>\n",
       "    <tr>\n",
       "      <th>3</th>\n",
       "      <td>Winter</td>\n",
       "      <td>Q3</td>\n",
       "      <td>243.19</td>\n",
       "      <td>-25.0</td>\n",
       "    </tr>\n",
       "    <tr>\n",
       "      <th>1</th>\n",
       "      <td>Spring</td>\n",
       "      <td>Q4</td>\n",
       "      <td>159.47</td>\n",
       "      <td>-116.0</td>\n",
       "    </tr>\n",
       "  </tbody>\n",
       "</table>\n",
       "</div>"
      ],
      "text/plain": [
       "  seasonDesc quarter   count   QoQ%\n",
       "2     Summer      Q1  269.60    0.0\n",
       "0       Fall      Q2  281.74    6.0\n",
       "3     Winter      Q3  243.19  -25.0\n",
       "1     Spring      Q4  159.47 -116.0"
      ]
     },
     "execution_count": 253,
     "metadata": {},
     "output_type": "execute_result"
    }
   ],
   "source": [
    "Q_2012['c2'] = [np.nan] + Q_2012.iloc[:3,:]['count'].tolist()\n",
    "Q_2012['QoQ%'] = (Q_2012['count'] - Q_2012['c2'])*100/Q_2011['count']\n",
    "Q_2012['QoQ%'] = Q_2012['QoQ%'].fillna(0).round()\n",
    "Q_2012 = Q_2012.drop('c2',axis=1)\n",
    "Q_2012"
   ]
  },
  {
   "cell_type": "code",
   "execution_count": 254,
   "metadata": {},
   "outputs": [
    {
     "data": {
      "text/html": [
       "<div>\n",
       "<style scoped>\n",
       "    .dataframe tbody tr th:only-of-type {\n",
       "        vertical-align: middle;\n",
       "    }\n",
       "\n",
       "    .dataframe tbody tr th {\n",
       "        vertical-align: top;\n",
       "    }\n",
       "\n",
       "    .dataframe thead th {\n",
       "        text-align: right;\n",
       "    }\n",
       "</style>\n",
       "<table border=\"1\" class=\"dataframe\">\n",
       "  <thead>\n",
       "    <tr style=\"text-align: right;\">\n",
       "      <th></th>\n",
       "      <th>seasonDesc</th>\n",
       "      <th>quarter</th>\n",
       "      <th>min</th>\n",
       "      <th>mean</th>\n",
       "      <th>max</th>\n",
       "    </tr>\n",
       "  </thead>\n",
       "  <tbody>\n",
       "    <tr>\n",
       "      <th>2</th>\n",
       "      <td>Summer</td>\n",
       "      <td>Q1</td>\n",
       "      <td>9.84</td>\n",
       "      <td>22.82</td>\n",
       "      <td>38.54</td>\n",
       "    </tr>\n",
       "    <tr>\n",
       "      <th>0</th>\n",
       "      <td>Fall</td>\n",
       "      <td>Q2</td>\n",
       "      <td>15.58</td>\n",
       "      <td>28.79</td>\n",
       "      <td>41.00</td>\n",
       "    </tr>\n",
       "    <tr>\n",
       "      <th>3</th>\n",
       "      <td>Winter</td>\n",
       "      <td>Q3</td>\n",
       "      <td>5.74</td>\n",
       "      <td>16.65</td>\n",
       "      <td>30.34</td>\n",
       "    </tr>\n",
       "    <tr>\n",
       "      <th>1</th>\n",
       "      <td>Spring</td>\n",
       "      <td>Q4</td>\n",
       "      <td>0.82</td>\n",
       "      <td>12.53</td>\n",
       "      <td>29.52</td>\n",
       "    </tr>\n",
       "  </tbody>\n",
       "</table>\n",
       "</div>"
      ],
      "text/plain": [
       "  seasonDesc quarter    min   mean    max\n",
       "2     Summer      Q1   9.84  22.82  38.54\n",
       "0       Fall      Q2  15.58  28.79  41.00\n",
       "3     Winter      Q3   5.74  16.65  30.34\n",
       "1     Spring      Q4   0.82  12.53  29.52"
      ]
     },
     "execution_count": 254,
     "metadata": {},
     "output_type": "execute_result"
    }
   ],
   "source": [
    "TQ = yu2.groupby(['seasonDesc','quarter'])['temp'].agg(['min','mean','max']).reset_index().sort_values(by = 'quarter', ascending = True).round(2)\n",
    "TQ"
   ]
  },
  {
   "cell_type": "code",
   "execution_count": 255,
   "metadata": {},
   "outputs": [],
   "source": [
    "Q = pd.merge(Q_2011,Q_2012, on = ['seasonDesc','quarter'], how = 'inner')"
   ]
  },
  {
   "cell_type": "code",
   "execution_count": 256,
   "metadata": {},
   "outputs": [
    {
     "data": {
      "text/html": [
       "<div>\n",
       "<style scoped>\n",
       "    .dataframe tbody tr th:only-of-type {\n",
       "        vertical-align: middle;\n",
       "    }\n",
       "\n",
       "    .dataframe tbody tr th {\n",
       "        vertical-align: top;\n",
       "    }\n",
       "\n",
       "    .dataframe thead th {\n",
       "        text-align: right;\n",
       "    }\n",
       "</style>\n",
       "<table border=\"1\" class=\"dataframe\">\n",
       "  <thead>\n",
       "    <tr style=\"text-align: right;\">\n",
       "      <th></th>\n",
       "      <th>seasonDesc</th>\n",
       "      <th>quarter</th>\n",
       "      <th>count_x</th>\n",
       "      <th>QoQ%_x</th>\n",
       "      <th>count_y</th>\n",
       "      <th>QoQ%_y</th>\n",
       "      <th>YoY%</th>\n",
       "    </tr>\n",
       "  </thead>\n",
       "  <tbody>\n",
       "    <tr>\n",
       "      <th>0</th>\n",
       "      <td>Summer</td>\n",
       "      <td>Q1</td>\n",
       "      <td>160.94</td>\n",
       "      <td>0.0</td>\n",
       "      <td>269.60</td>\n",
       "      <td>0.0</td>\n",
       "      <td>67.52</td>\n",
       "    </tr>\n",
       "    <tr>\n",
       "      <th>1</th>\n",
       "      <td>Fall</td>\n",
       "      <td>Q2</td>\n",
       "      <td>186.99</td>\n",
       "      <td>14.0</td>\n",
       "      <td>281.74</td>\n",
       "      <td>6.0</td>\n",
       "      <td>50.67</td>\n",
       "    </tr>\n",
       "    <tr>\n",
       "      <th>2</th>\n",
       "      <td>Winter</td>\n",
       "      <td>Q3</td>\n",
       "      <td>154.79</td>\n",
       "      <td>-21.0</td>\n",
       "      <td>243.19</td>\n",
       "      <td>-25.0</td>\n",
       "      <td>57.11</td>\n",
       "    </tr>\n",
       "    <tr>\n",
       "      <th>3</th>\n",
       "      <td>Spring</td>\n",
       "      <td>Q4</td>\n",
       "      <td>71.91</td>\n",
       "      <td>-115.0</td>\n",
       "      <td>159.47</td>\n",
       "      <td>-116.0</td>\n",
       "      <td>121.76</td>\n",
       "    </tr>\n",
       "  </tbody>\n",
       "</table>\n",
       "</div>"
      ],
      "text/plain": [
       "  seasonDesc quarter  count_x  QoQ%_x  count_y  QoQ%_y    YoY%\n",
       "0     Summer      Q1   160.94     0.0   269.60     0.0   67.52\n",
       "1       Fall      Q2   186.99    14.0   281.74     6.0   50.67\n",
       "2     Winter      Q3   154.79   -21.0   243.19   -25.0   57.11\n",
       "3     Spring      Q4    71.91  -115.0   159.47  -116.0  121.76"
      ]
     },
     "execution_count": 256,
     "metadata": {},
     "output_type": "execute_result"
    }
   ],
   "source": [
    "Q['YoY%'] = (Q['count_y'] - Q['count_x'])*100/Q['count_x']\n",
    "Q['YoY%'] = Q['YoY%'].round(2)\n",
    "Q"
   ]
  },
  {
   "cell_type": "code",
   "execution_count": 257,
   "metadata": {},
   "outputs": [],
   "source": [
    "Q = pd.merge(Q,TQ,on = ['seasonDesc','quarter'],how = 'inner')\n",
    "Q = pd.merge(Q,yu2.groupby(['quarter'])['humidity'].mean().reset_index().round(2),on = ['quarter'],how = 'inner')\n",
    "Q = pd.merge(Q,yu2.groupby(['quarter'])['windspeed'].mean().reset_index().round(2),on = ['quarter'],how = 'inner')"
   ]
  },
  {
   "cell_type": "code",
   "execution_count": 258,
   "metadata": {},
   "outputs": [
    {
     "data": {
      "text/html": [
       "<div>\n",
       "<style scoped>\n",
       "    .dataframe tbody tr th:only-of-type {\n",
       "        vertical-align: middle;\n",
       "    }\n",
       "\n",
       "    .dataframe tbody tr th {\n",
       "        vertical-align: top;\n",
       "    }\n",
       "\n",
       "    .dataframe thead th {\n",
       "        text-align: right;\n",
       "    }\n",
       "</style>\n",
       "<table border=\"1\" class=\"dataframe\">\n",
       "  <thead>\n",
       "    <tr style=\"text-align: right;\">\n",
       "      <th></th>\n",
       "      <th>seasonDesc</th>\n",
       "      <th>quarter</th>\n",
       "      <th>Avg2011</th>\n",
       "      <th>QoQ%_2011</th>\n",
       "      <th>Avg2012</th>\n",
       "      <th>QoQ%_2012</th>\n",
       "      <th>YoY%</th>\n",
       "      <th>minTemp</th>\n",
       "      <th>AvgTemp</th>\n",
       "      <th>MaxTemp</th>\n",
       "      <th>humidity</th>\n",
       "      <th>windspeed</th>\n",
       "    </tr>\n",
       "  </thead>\n",
       "  <tbody>\n",
       "    <tr>\n",
       "      <th>0</th>\n",
       "      <td>Summer</td>\n",
       "      <td>Q1</td>\n",
       "      <td>160.94</td>\n",
       "      <td>0.0</td>\n",
       "      <td>269.60</td>\n",
       "      <td>0.0</td>\n",
       "      <td>67.52</td>\n",
       "      <td>9.84</td>\n",
       "      <td>22.82</td>\n",
       "      <td>38.54</td>\n",
       "      <td>60.85</td>\n",
       "      <td>13.41</td>\n",
       "    </tr>\n",
       "    <tr>\n",
       "      <th>1</th>\n",
       "      <td>Fall</td>\n",
       "      <td>Q2</td>\n",
       "      <td>186.99</td>\n",
       "      <td>14.0</td>\n",
       "      <td>281.74</td>\n",
       "      <td>6.0</td>\n",
       "      <td>50.67</td>\n",
       "      <td>15.58</td>\n",
       "      <td>28.79</td>\n",
       "      <td>41.00</td>\n",
       "      <td>64.12</td>\n",
       "      <td>11.51</td>\n",
       "    </tr>\n",
       "    <tr>\n",
       "      <th>2</th>\n",
       "      <td>Winter</td>\n",
       "      <td>Q3</td>\n",
       "      <td>154.79</td>\n",
       "      <td>-21.0</td>\n",
       "      <td>243.19</td>\n",
       "      <td>-25.0</td>\n",
       "      <td>57.11</td>\n",
       "      <td>5.74</td>\n",
       "      <td>16.65</td>\n",
       "      <td>30.34</td>\n",
       "      <td>66.17</td>\n",
       "      <td>11.68</td>\n",
       "    </tr>\n",
       "    <tr>\n",
       "      <th>3</th>\n",
       "      <td>Spring</td>\n",
       "      <td>Q4</td>\n",
       "      <td>71.91</td>\n",
       "      <td>-115.0</td>\n",
       "      <td>159.47</td>\n",
       "      <td>-116.0</td>\n",
       "      <td>121.76</td>\n",
       "      <td>0.82</td>\n",
       "      <td>12.53</td>\n",
       "      <td>29.52</td>\n",
       "      <td>56.29</td>\n",
       "      <td>14.64</td>\n",
       "    </tr>\n",
       "  </tbody>\n",
       "</table>\n",
       "</div>"
      ],
      "text/plain": [
       "  seasonDesc quarter  Avg2011  QoQ%_2011  Avg2012  QoQ%_2012    YoY%  minTemp  \\\n",
       "0     Summer      Q1   160.94        0.0   269.60        0.0   67.52     9.84   \n",
       "1       Fall      Q2   186.99       14.0   281.74        6.0   50.67    15.58   \n",
       "2     Winter      Q3   154.79      -21.0   243.19      -25.0   57.11     5.74   \n",
       "3     Spring      Q4    71.91     -115.0   159.47     -116.0  121.76     0.82   \n",
       "\n",
       "   AvgTemp  MaxTemp  humidity  windspeed  \n",
       "0    22.82    38.54     60.85      13.41  \n",
       "1    28.79    41.00     64.12      11.51  \n",
       "2    16.65    30.34     66.17      11.68  \n",
       "3    12.53    29.52     56.29      14.64  "
      ]
     },
     "execution_count": 258,
     "metadata": {},
     "output_type": "execute_result"
    }
   ],
   "source": [
    "Q = Q.rename(columns = {'count_x':'Avg2011','count_y':'Avg2012','QoQ%_x':'QoQ%_2011','QoQ%_y':'QoQ%_2012',\n",
    "                        'mean':'AvgTemp','min':'minTemp','max':'MaxTemp'})\n",
    "Q"
   ]
  },
  {
   "cell_type": "code",
   "execution_count": 409,
   "metadata": {},
   "outputs": [
    {
     "data": {
      "image/png": "[encoded data removed]",
      "text/plain": [
       "<Figure size 864x432 with 1 Axes>"
      ]
     },
     "metadata": {
      "needs_background": "light"
     },
     "output_type": "display_data"
    }
   ],
   "source": [
    "plt.figure(figsize = (12,6))\n",
    "\n",
    "X = Q['quarter'].tolist()\n",
    "Y = Q['Avg2011'].tolist()\n",
    "Z = Q['QoQ%_2011'].tolist()\n",
    "\n",
    "X_axis = np.arange(len(X))\n",
    "  \n",
    "plt.bar(X_axis - 0.2, Y, 0.4, color ='#41ADE3', label = 'Average People Count')\n",
    "plt.bar(X_axis + 0.2, Z, 0.4, color =['#90D85A','#90D85A','red','red'], label = 'QoQ%')\n",
    "  \n",
    "plt.xticks(X_axis, X)\n",
    "plt.xlabel(\"Quarters\")\n",
    "plt.ylabel(\"Percentage\")\n",
    "plt.title(\"Customer Count And QoQ% growth in 2011\")\n",
    "plt.savefig('QoQ_2011.png',transparent=True)\n",
    "plt.legend()\n",
    "plt.show()"
   ]
  },
  {
   "cell_type": "markdown",
   "metadata": {},
   "source": [
    "    - In 2011, there is a slight increase of 14% in Q2, and we can see a decrease of 21% in Q3 and but the customer demand dropped very drastically in Q4, with demand dropping by 115%."
   ]
  },
  {
   "cell_type": "code",
   "execution_count": 410,
   "metadata": {},
   "outputs": [
    {
     "data": {
      "image/png": "[encoded data removed]",
      "text/plain": [
       "<Figure size 864x432 with 1 Axes>"
      ]
     },
     "metadata": {
      "needs_background": "light"
     },
     "output_type": "display_data"
    }
   ],
   "source": [
    "plt.figure(figsize = (12,6))\n",
    "\n",
    "X = Q['quarter'].tolist()\n",
    "Y = Q['Avg2012'].tolist()\n",
    "Z = Q['QoQ%_2012'].tolist()\n",
    "\n",
    "X_axis = np.arange(len(X))\n",
    "  \n",
    "plt.bar(X_axis - 0.2, Y, 0.4,color ='#41ADE3', label = 'Average People Count')\n",
    "plt.bar(X_axis + 0.2, Z, 0.4,color =['#90D85A','#90D85A','red','red'], label = 'QoQ%')\n",
    "  \n",
    "plt.xticks(X_axis, X)\n",
    "plt.xlabel(\"Quarters\")\n",
    "plt.ylabel(\"Percentage\")\n",
    "plt.title(\"People Count And QoQ% growth for 2012\")\n",
    "plt.savefig('QoQ_2012.png',transparent=True)\n",
    "plt.legend()\n",
    "plt.show()"
   ]
  },
  {
   "cell_type": "markdown",
   "metadata": {},
   "source": [
    "    - In 2012, we see the exact same trend as we saw in 2011!\n",
    "    \n",
    "    - There is again a slight increase of 6% in Q2, and we can see a decrease of 25% in Q3 and but the customer demand dropped very drastically in Q4, with demand dropping by 116%."
   ]
  },
  {
   "cell_type": "code",
   "execution_count": 411,
   "metadata": {},
   "outputs": [
    {
     "data": {
      "image/png": "[encoded data removed]",
      "text/plain": [
       "<Figure size 864x432 with 1 Axes>"
      ]
     },
     "metadata": {
      "needs_background": "light"
     },
     "output_type": "display_data"
    }
   ],
   "source": [
    "plt.figure(figsize = (12,6))\n",
    "#plt.style.use('seaborn-dark')\n",
    "#plt.rcdefaults()\n",
    "\n",
    "x = Q['quarter'].tolist()\n",
    "y = Q['YoY%'].tolist()\n",
    "\n",
    "plt.bar(x = x, height = y, width = 0.4,color =['#90D85A','#90D85A','#90D85A','#FAA71D'])   #F8654B\n",
    "plt.xticks(x,('Q1','Q2','Q3','Q4'))\n",
    "\n",
    "#y2 = Q['YoY%'].tolist()\n",
    "\n",
    "y3 = [i+3 for i in y]\n",
    "\n",
    "plt.plot(x,y3, color = 'r')\n",
    "plt.scatter(x,y3,color ='r')\n",
    "\n",
    "\n",
    "plt.xlabel(\"Quarters\")\n",
    "plt.ylabel(\"Percentage\")\n",
    "plt.title(\"YoY% growth\")\n",
    "plt.savefig('YoY.png',transparent=True)\n",
    "plt.show()"
   ]
  },
  {
   "cell_type": "markdown",
   "metadata": {},
   "source": [
    "    - Analyzing the YoY Growth, things look very optimistic for Yulu Bikes. All the quarters have seen a positive growth in the year 2012, with 68% in Q1, 51% in Q2, 57% in Q3.\n",
    "    \n",
    "    - Although Q4 is the worst performing quarter in terms of demand for each year, but the demand is actually seen to be increasing very very drastically in Q4 with a whooping 121% jump in the demand."
   ]
  },
  {
   "cell_type": "code",
   "execution_count": 295,
   "metadata": {},
   "outputs": [
    {
     "data": {
      "image/png": "[encoded data removed]",
      "text/plain": [
       "<Figure size 864x432 with 1 Axes>"
      ]
     },
     "metadata": {
      "needs_background": "light"
     },
     "output_type": "display_data"
    }
   ],
   "source": [
    "plt.figure(figsize = (12,6))\n",
    "\n",
    "X = Q['quarter'].tolist()\n",
    "Y = Q['Avg2012'].tolist()\n",
    "Z = Q['YoY%'].tolist()\n",
    "\n",
    "X_axis = np.arange(len(X))\n",
    "  \n",
    "plt.bar(X_axis - 0.2, Y, 0.4,color ='#41ADE3', label = 'Average Demand in 2012')\n",
    "plt.bar(X_axis + 0.2, Z, 0.4,color =['#90D85A','#90D85A','#90D85A','#90D85A'], label = 'YoY%')\n",
    "\n",
    "#y3 = [i+3 for i in Z]\n",
    "#plt.plot(x,y3, color = 'r')\n",
    "#plt.scatter(x,y3,color ='r')\n",
    "  \n",
    "plt.xticks(X_axis, X)\n",
    "plt.xlabel(\"Quarters\")\n",
    "plt.title(\"People Count in 2012 And YoY% growth\")\n",
    "#plt.savefig('YoY2.png',transparent=True)\n",
    "plt.legend()\n",
    "plt.show()"
   ]
  },
  {
   "cell_type": "markdown",
   "metadata": {},
   "source": [
    "## Effect of Temperature, Windspeed and Humidity over the customer demand :"
   ]
  },
  {
   "cell_type": "code",
   "execution_count": 296,
   "metadata": {},
   "outputs": [
    {
     "data": {
      "text/html": [
       "<div>\n",
       "<style scoped>\n",
       "    .dataframe tbody tr th:only-of-type {\n",
       "        vertical-align: middle;\n",
       "    }\n",
       "\n",
       "    .dataframe tbody tr th {\n",
       "        vertical-align: top;\n",
       "    }\n",
       "\n",
       "    .dataframe thead th {\n",
       "        text-align: right;\n",
       "    }\n",
       "</style>\n",
       "<table border=\"1\" class=\"dataframe\">\n",
       "  <thead>\n",
       "    <tr style=\"text-align: right;\">\n",
       "      <th></th>\n",
       "      <th>seasonDesc</th>\n",
       "      <th>quarter</th>\n",
       "      <th>Avg2011</th>\n",
       "      <th>QoQ%_2011</th>\n",
       "      <th>Avg2012</th>\n",
       "      <th>QoQ%_2012</th>\n",
       "      <th>YoY%</th>\n",
       "      <th>minTemp</th>\n",
       "      <th>AvgTemp</th>\n",
       "      <th>MaxTemp</th>\n",
       "      <th>humidity</th>\n",
       "      <th>windspeed</th>\n",
       "    </tr>\n",
       "  </thead>\n",
       "  <tbody>\n",
       "    <tr>\n",
       "      <th>0</th>\n",
       "      <td>Summer</td>\n",
       "      <td>Q1</td>\n",
       "      <td>160.94</td>\n",
       "      <td>0.0</td>\n",
       "      <td>269.60</td>\n",
       "      <td>0.0</td>\n",
       "      <td>67.52</td>\n",
       "      <td>9.84</td>\n",
       "      <td>22.82</td>\n",
       "      <td>38.54</td>\n",
       "      <td>60.85</td>\n",
       "      <td>13.41</td>\n",
       "    </tr>\n",
       "    <tr>\n",
       "      <th>1</th>\n",
       "      <td>Fall</td>\n",
       "      <td>Q2</td>\n",
       "      <td>186.99</td>\n",
       "      <td>14.0</td>\n",
       "      <td>281.74</td>\n",
       "      <td>6.0</td>\n",
       "      <td>50.67</td>\n",
       "      <td>15.58</td>\n",
       "      <td>28.79</td>\n",
       "      <td>41.00</td>\n",
       "      <td>64.12</td>\n",
       "      <td>11.51</td>\n",
       "    </tr>\n",
       "    <tr>\n",
       "      <th>2</th>\n",
       "      <td>Winter</td>\n",
       "      <td>Q3</td>\n",
       "      <td>154.79</td>\n",
       "      <td>-21.0</td>\n",
       "      <td>243.19</td>\n",
       "      <td>-25.0</td>\n",
       "      <td>57.11</td>\n",
       "      <td>5.74</td>\n",
       "      <td>16.65</td>\n",
       "      <td>30.34</td>\n",
       "      <td>66.17</td>\n",
       "      <td>11.68</td>\n",
       "    </tr>\n",
       "    <tr>\n",
       "      <th>3</th>\n",
       "      <td>Spring</td>\n",
       "      <td>Q4</td>\n",
       "      <td>71.91</td>\n",
       "      <td>-115.0</td>\n",
       "      <td>159.47</td>\n",
       "      <td>-116.0</td>\n",
       "      <td>121.76</td>\n",
       "      <td>0.82</td>\n",
       "      <td>12.53</td>\n",
       "      <td>29.52</td>\n",
       "      <td>56.29</td>\n",
       "      <td>14.64</td>\n",
       "    </tr>\n",
       "  </tbody>\n",
       "</table>\n",
       "</div>"
      ],
      "text/plain": [
       "  seasonDesc quarter  Avg2011  QoQ%_2011  Avg2012  QoQ%_2012    YoY%  minTemp  \\\n",
       "0     Summer      Q1   160.94        0.0   269.60        0.0   67.52     9.84   \n",
       "1       Fall      Q2   186.99       14.0   281.74        6.0   50.67    15.58   \n",
       "2     Winter      Q3   154.79      -21.0   243.19      -25.0   57.11     5.74   \n",
       "3     Spring      Q4    71.91     -115.0   159.47     -116.0  121.76     0.82   \n",
       "\n",
       "   AvgTemp  MaxTemp  humidity  windspeed  \n",
       "0    22.82    38.54     60.85      13.41  \n",
       "1    28.79    41.00     64.12      11.51  \n",
       "2    16.65    30.34     66.17      11.68  \n",
       "3    12.53    29.52     56.29      14.64  "
      ]
     },
     "execution_count": 296,
     "metadata": {},
     "output_type": "execute_result"
    }
   ],
   "source": [
    "Q"
   ]
  },
  {
   "cell_type": "code",
   "execution_count": 300,
   "metadata": {},
   "outputs": [
    {
     "data": {
      "text/html": [
       "<div>\n",
       "<style scoped>\n",
       "    .dataframe tbody tr th:only-of-type {\n",
       "        vertical-align: middle;\n",
       "    }\n",
       "\n",
       "    .dataframe tbody tr th {\n",
       "        vertical-align: top;\n",
       "    }\n",
       "\n",
       "    .dataframe thead th {\n",
       "        text-align: right;\n",
       "    }\n",
       "</style>\n",
       "<table border=\"1\" class=\"dataframe\">\n",
       "  <thead>\n",
       "    <tr style=\"text-align: right;\">\n",
       "      <th></th>\n",
       "      <th>Avg2011</th>\n",
       "      <th>Avg2012</th>\n",
       "      <th>YoY%</th>\n",
       "      <th>AvgTemp</th>\n",
       "      <th>humidity</th>\n",
       "      <th>windspeed</th>\n",
       "    </tr>\n",
       "  </thead>\n",
       "  <tbody>\n",
       "    <tr>\n",
       "      <th>0</th>\n",
       "      <td>160.94</td>\n",
       "      <td>269.60</td>\n",
       "      <td>67.52</td>\n",
       "      <td>22.82</td>\n",
       "      <td>60.85</td>\n",
       "      <td>13.41</td>\n",
       "    </tr>\n",
       "    <tr>\n",
       "      <th>1</th>\n",
       "      <td>186.99</td>\n",
       "      <td>281.74</td>\n",
       "      <td>50.67</td>\n",
       "      <td>28.79</td>\n",
       "      <td>64.12</td>\n",
       "      <td>11.51</td>\n",
       "    </tr>\n",
       "    <tr>\n",
       "      <th>2</th>\n",
       "      <td>154.79</td>\n",
       "      <td>243.19</td>\n",
       "      <td>57.11</td>\n",
       "      <td>16.65</td>\n",
       "      <td>66.17</td>\n",
       "      <td>11.68</td>\n",
       "    </tr>\n",
       "    <tr>\n",
       "      <th>3</th>\n",
       "      <td>71.91</td>\n",
       "      <td>159.47</td>\n",
       "      <td>121.76</td>\n",
       "      <td>12.53</td>\n",
       "      <td>56.29</td>\n",
       "      <td>14.64</td>\n",
       "    </tr>\n",
       "  </tbody>\n",
       "</table>\n",
       "</div>"
      ],
      "text/plain": [
       "   Avg2011  Avg2012    YoY%  AvgTemp  humidity  windspeed\n",
       "0   160.94   269.60   67.52    22.82     60.85      13.41\n",
       "1   186.99   281.74   50.67    28.79     64.12      11.51\n",
       "2   154.79   243.19   57.11    16.65     66.17      11.68\n",
       "3    71.91   159.47  121.76    12.53     56.29      14.64"
      ]
     },
     "execution_count": 300,
     "metadata": {},
     "output_type": "execute_result"
    }
   ],
   "source": [
    "Q[['Avg2011','Avg2012','YoY%','AvgTemp','humidity','windspeed']]"
   ]
  },
  {
   "cell_type": "markdown",
   "metadata": {},
   "source": [
    "###  Correlation between temperature and humidity with the customer demand : we need to transform the data to a standard form. Let's normalize the data to Zscore data :"
   ]
  },
  {
   "cell_type": "code",
   "execution_count": 299,
   "metadata": {},
   "outputs": [],
   "source": [
    "import scipy.stats as stats"
   ]
  },
  {
   "cell_type": "code",
   "execution_count": 301,
   "metadata": {},
   "outputs": [
    {
     "data": {
      "text/html": [
       "<div>\n",
       "<style scoped>\n",
       "    .dataframe tbody tr th:only-of-type {\n",
       "        vertical-align: middle;\n",
       "    }\n",
       "\n",
       "    .dataframe tbody tr th {\n",
       "        vertical-align: top;\n",
       "    }\n",
       "\n",
       "    .dataframe thead th {\n",
       "        text-align: right;\n",
       "    }\n",
       "</style>\n",
       "<table border=\"1\" class=\"dataframe\">\n",
       "  <thead>\n",
       "    <tr style=\"text-align: right;\">\n",
       "      <th></th>\n",
       "      <th>Avg2011</th>\n",
       "      <th>Avg2012</th>\n",
       "      <th>YoY%</th>\n",
       "      <th>AvgTemp</th>\n",
       "      <th>humidity</th>\n",
       "      <th>windspeed</th>\n",
       "      <th>quarter</th>\n",
       "      <th>seasonDesc</th>\n",
       "    </tr>\n",
       "  </thead>\n",
       "  <tbody>\n",
       "    <tr>\n",
       "      <th>0</th>\n",
       "      <td>0.400512</td>\n",
       "      <td>0.651867</td>\n",
       "      <td>-0.240270</td>\n",
       "      <td>0.425308</td>\n",
       "      <td>-0.269920</td>\n",
       "      <td>0.464440</td>\n",
       "      <td>Q1</td>\n",
       "      <td>Summer</td>\n",
       "    </tr>\n",
       "    <tr>\n",
       "      <th>1</th>\n",
       "      <td>1.004207</td>\n",
       "      <td>0.906325</td>\n",
       "      <td>-0.840499</td>\n",
       "      <td>1.393503</td>\n",
       "      <td>0.606149</td>\n",
       "      <td>-1.006287</td>\n",
       "      <td>Q2</td>\n",
       "      <td>Fall</td>\n",
       "    </tr>\n",
       "    <tr>\n",
       "      <th>2</th>\n",
       "      <td>0.257990</td>\n",
       "      <td>0.098304</td>\n",
       "      <td>-0.611094</td>\n",
       "      <td>-0.575322</td>\n",
       "      <td>1.155366</td>\n",
       "      <td>-0.874695</td>\n",
       "      <td>Q3</td>\n",
       "      <td>Winter</td>\n",
       "    </tr>\n",
       "    <tr>\n",
       "      <th>3</th>\n",
       "      <td>-1.662709</td>\n",
       "      <td>-1.656496</td>\n",
       "      <td>1.691862</td>\n",
       "      <td>-1.243490</td>\n",
       "      <td>-1.491595</td>\n",
       "      <td>1.416542</td>\n",
       "      <td>Q4</td>\n",
       "      <td>Spring</td>\n",
       "    </tr>\n",
       "  </tbody>\n",
       "</table>\n",
       "</div>"
      ],
      "text/plain": [
       "    Avg2011   Avg2012      YoY%   AvgTemp  humidity  windspeed quarter  \\\n",
       "0  0.400512  0.651867 -0.240270  0.425308 -0.269920   0.464440      Q1   \n",
       "1  1.004207  0.906325 -0.840499  1.393503  0.606149  -1.006287      Q2   \n",
       "2  0.257990  0.098304 -0.611094 -0.575322  1.155366  -0.874695      Q3   \n",
       "3 -1.662709 -1.656496  1.691862 -1.243490 -1.491595   1.416542      Q4   \n",
       "\n",
       "  seasonDesc  \n",
       "0     Summer  \n",
       "1       Fall  \n",
       "2     Winter  \n",
       "3     Spring  "
      ]
     },
     "execution_count": 301,
     "metadata": {},
     "output_type": "execute_result"
    }
   ],
   "source": [
    "num_cols = ['Avg2011','Avg2012','YoY%','AvgTemp','humidity','windspeed']\n",
    "zscores = stats.zscore(Q[num_cols])\n",
    "zscores = pd.DataFrame(zscores)\n",
    "zscores.columns = num_cols\n",
    "zscores['quarter'] = Q['quarter'].tolist()\n",
    "zscores['seasonDesc'] = Q['seasonDesc'].tolist()\n",
    "zscores"
   ]
  },
  {
   "cell_type": "code",
   "execution_count": 305,
   "metadata": {},
   "outputs": [
    {
     "data": {
      "text/html": [
       "<div>\n",
       "<style scoped>\n",
       "    .dataframe tbody tr th:only-of-type {\n",
       "        vertical-align: middle;\n",
       "    }\n",
       "\n",
       "    .dataframe tbody tr th {\n",
       "        vertical-align: top;\n",
       "    }\n",
       "\n",
       "    .dataframe thead th {\n",
       "        text-align: right;\n",
       "    }\n",
       "</style>\n",
       "<table border=\"1\" class=\"dataframe\">\n",
       "  <thead>\n",
       "    <tr style=\"text-align: right;\">\n",
       "      <th></th>\n",
       "      <th>index</th>\n",
       "      <th>Avg2011</th>\n",
       "      <th>Avg2012</th>\n",
       "    </tr>\n",
       "  </thead>\n",
       "  <tbody>\n",
       "    <tr>\n",
       "      <th>3</th>\n",
       "      <td>AvgTemp</td>\n",
       "      <td>0.87</td>\n",
       "      <td>0.89</td>\n",
       "    </tr>\n",
       "    <tr>\n",
       "      <th>4</th>\n",
       "      <td>humidity</td>\n",
       "      <td>0.82</td>\n",
       "      <td>0.74</td>\n",
       "    </tr>\n",
       "    <tr>\n",
       "      <th>5</th>\n",
       "      <td>windspeed</td>\n",
       "      <td>-0.85</td>\n",
       "      <td>-0.76</td>\n",
       "    </tr>\n",
       "  </tbody>\n",
       "</table>\n",
       "</div>"
      ],
      "text/plain": [
       "       index  Avg2011  Avg2012\n",
       "3    AvgTemp     0.87     0.89\n",
       "4   humidity     0.82     0.74\n",
       "5  windspeed    -0.85    -0.76"
      ]
     },
     "execution_count": 305,
     "metadata": {},
     "output_type": "execute_result"
    }
   ],
   "source": [
    "zscores.corr().round(2).reset_index()[['index','Avg2011','Avg2012']][3:6]"
   ]
  },
  {
   "cell_type": "markdown",
   "metadata": {},
   "source": [
    "    - We can see a huge positive correlation between customer count and the average temperature (around 90%) as well as humidity (around 80%), which means temperature and humidity play a majore role in the Yulu Bike demand. \n",
    "    \n",
    "    - We can also see a strong negative correlation between customer count and windspeed (around -80%), telling us that the count does depend on windspeed in a way that demand actually drops as the windspeed increases."
   ]
  },
  {
   "cell_type": "code",
   "execution_count": 432,
   "metadata": {},
   "outputs": [
    {
     "data": {
      "image/png": "[encoded data removed]",
      "text/plain": [
       "<Figure size 720x360 with 1 Axes>"
      ]
     },
     "metadata": {
      "needs_background": "light"
     },
     "output_type": "display_data"
    }
   ],
   "source": [
    "plt.figure(figsize = (10,5))\n",
    "\n",
    "x = zscores['quarter'].tolist()\n",
    "y = zscores['Avg2011'].tolist()\n",
    "y2 = zscores['AvgTemp'].tolist()\n",
    "\n",
    "\n",
    "plt.plot(x,y, color = '#196CEB',linestyle = '-.', label = 'Average traffic 2011')\n",
    "plt.plot(x,y2, color = '#F6491E',linestyle = '-.',label = 'Average temp 2011')\n",
    "plt.scatter(x,y, color = '#196CEB')\n",
    "plt.scatter(x,y2, color = '#F6491E')\n",
    "\n",
    "X_axis = np.arange(len(x))\n",
    "\n",
    "plt.xticks(X_axis, x)\n",
    "plt.xlabel(\"Quarters\")\n",
    "plt.title(\"Pearson's Correlation between Demand & Average temperature per Quarter in 2011\")\n",
    "plt.savefig('2011_temp.png',transparent=True)\n",
    "plt.legend()\n",
    "plt.show()"
   ]
  },
  {
   "cell_type": "code",
   "execution_count": 433,
   "metadata": {},
   "outputs": [
    {
     "data": {
      "image/png": "[encoded data removed]",
      "text/plain": [
       "<Figure size 720x360 with 1 Axes>"
      ]
     },
     "metadata": {
      "needs_background": "light"
     },
     "output_type": "display_data"
    }
   ],
   "source": [
    "plt.figure(figsize = (10,5))\n",
    "\n",
    "x = zscores['quarter'].tolist()\n",
    "y = zscores['Avg2012'].tolist()\n",
    "y2 = zscores['AvgTemp'].tolist()\n",
    "\n",
    "\n",
    "plt.plot(x,y, color = '#196CEB',linestyle = '-.', label = 'Average traffic 2012')\n",
    "plt.plot(x,y2, color = '#F6491E',linestyle = '-.',label = 'Average temp 2012')\n",
    "plt.scatter(x,y, color = '#196CEB')\n",
    "plt.scatter(x,y2, color = '#F6491E')\n",
    "\n",
    "X_axis = np.arange(len(x))\n",
    "\n",
    "plt.xticks(X_axis, x)\n",
    "plt.xlabel(\"Quarters\")\n",
    "plt.title(\"Pearson's Correlation between Demand & Average temperature per Quarter in 2012\")\n",
    "plt.savefig('2012_temp.png',transparent=True)\n",
    "plt.legend()\n",
    "plt.show()"
   ]
  },
  {
   "cell_type": "code",
   "execution_count": 448,
   "metadata": {},
   "outputs": [
    {
     "data": {
      "image/png": "[encoded data removed]",
      "text/plain": [
       "<Figure size 720x360 with 1 Axes>"
      ]
     },
     "metadata": {
      "needs_background": "light"
     },
     "output_type": "display_data"
    }
   ],
   "source": [
    "plt.figure(figsize = (10,5))\n",
    "\n",
    "x = zscores['quarter'].tolist()\n",
    "y = zscores['Avg2011'].tolist()\n",
    "y2 = zscores['humidity'].tolist()\n",
    "\n",
    "\n",
    "plt.plot(x,y, color = '#196CEB',linestyle = '-.', label = 'Average Demand 2011')\n",
    "plt.plot(x,y2, color = '#F6491E',linestyle = '-.',label = 'Average Humidity')\n",
    "plt.scatter(x,y, color = '#196CEB')\n",
    "plt.scatter(x,y2, color = '#F6491E')\n",
    "\n",
    "X_axis = np.arange(len(x))\n",
    "\n",
    "plt.xticks(X_axis, x)\n",
    "plt.xlabel(\"Quarters\")\n",
    "plt.title(\"Pearson's Correlation between Demand & Average Humidity per Quarter in 2011\")\n",
    "plt.savefig('2011_hum.png',transparent=True)\n",
    "plt.legend()\n",
    "plt.show()"
   ]
  },
  {
   "cell_type": "code",
   "execution_count": 449,
   "metadata": {},
   "outputs": [
    {
     "data": {
      "image/png": "[encoded data removed]",
      "text/plain": [
       "<Figure size 720x360 with 1 Axes>"
      ]
     },
     "metadata": {
      "needs_background": "light"
     },
     "output_type": "display_data"
    }
   ],
   "source": [
    "plt.figure(figsize = (10,5))\n",
    "\n",
    "x = zscores['quarter'].tolist()\n",
    "y = zscores['Avg2012'].tolist()\n",
    "y2 = zscores['humidity'].tolist()\n",
    "\n",
    "\n",
    "plt.plot(x,y, color = '#196CEB',linestyle = '-.', label = 'Average Demand 2012')\n",
    "plt.plot(x,y2, color = '#F6491E',linestyle = '-.',label = 'Average Humidity')\n",
    "plt.scatter(x,y, color = '#196CEB')\n",
    "plt.scatter(x,y2, color = '#F6491E')\n",
    "\n",
    "X_axis = np.arange(len(x))\n",
    "\n",
    "plt.xticks(X_axis, x)\n",
    "plt.xlabel(\"Quarters\")\n",
    "plt.title(\"Pearson's Correlation between Demand & Average Humidity per Quarter in 2012\")\n",
    "plt.savefig('2012_hum.png',transparent=True)\n",
    "plt.legend()\n",
    "plt.show()"
   ]
  },
  {
   "cell_type": "code",
   "execution_count": 437,
   "metadata": {},
   "outputs": [
    {
     "data": {
      "image/png": "[encoded data removed]",
      "text/plain": [
       "<Figure size 720x360 with 1 Axes>"
      ]
     },
     "metadata": {
      "needs_background": "light"
     },
     "output_type": "display_data"
    }
   ],
   "source": [
    "plt.figure(figsize = (10,5))\n",
    "\n",
    "x = zscores['quarter'].tolist()\n",
    "y = zscores['Avg2011'].tolist()\n",
    "y2 = zscores['windspeed'].tolist()\n",
    "\n",
    "\n",
    "plt.plot(x,y, color = '#196CEB',linestyle = '-.', label = 'Average Demand 2011')\n",
    "plt.plot(x,y2, color = '#F6491E',linestyle = '-.',label = 'Average Windspeed')\n",
    "plt.scatter(x,y, color = '#196CEB')\n",
    "plt.scatter(x,y2, color = '#F6491E')\n",
    "\n",
    "X_axis = np.arange(len(x))\n",
    "\n",
    "plt.xticks(X_axis, x)\n",
    "plt.xlabel(\"Quarters\")\n",
    "plt.title(\"Pearson's Correlation between Demand & Average Windspeed per Quarter in 2011\")\n",
    "plt.savefig('2011_wind.png',transparent=True)\n",
    "plt.legend()\n",
    "plt.show()"
   ]
  },
  {
   "cell_type": "code",
   "execution_count": 450,
   "metadata": {},
   "outputs": [
    {
     "data": {
      "image/png": "[encoded data removed]",
      "text/plain": [
       "<Figure size 720x360 with 1 Axes>"
      ]
     },
     "metadata": {
      "needs_background": "light"
     },
     "output_type": "display_data"
    }
   ],
   "source": [
    "plt.figure(figsize = (10,5))\n",
    "\n",
    "x = zscores['quarter'].tolist()\n",
    "y = zscores['Avg2012'].tolist()\n",
    "y2 = zscores['windspeed'].tolist()\n",
    "\n",
    "plt.plot(x,y, color = '#196CEB',linestyle = '-.', label = 'Average Demand 2012')\n",
    "plt.plot(x,y2, color = '#F6491E',linestyle = '-.',label = 'Average Windspeed')\n",
    "plt.scatter(x,y, color = '#196CEB')\n",
    "plt.scatter(x,y2, color = '#F6491E')\n",
    "\n",
    "X_axis = np.arange(len(x))\n",
    "\n",
    "plt.xticks(X_axis, x)\n",
    "plt.xlabel(\"Quarters\")\n",
    "plt.title(\"Pearson's Correlation between Demand & Average Windspeed per Quarter in 2012\")\n",
    "plt.savefig('2012_wind.png',transparent=True)\n",
    "plt.legend()\n",
    "plt.show()"
   ]
  },
  {
   "cell_type": "markdown",
   "metadata": {},
   "source": [
    "### Registered customers vs Casual Customers :"
   ]
  },
  {
   "cell_type": "code",
   "execution_count": 321,
   "metadata": {},
   "outputs": [
    {
     "data": {
      "text/html": [
       "<div>\n",
       "<style scoped>\n",
       "    .dataframe tbody tr th:only-of-type {\n",
       "        vertical-align: middle;\n",
       "    }\n",
       "\n",
       "    .dataframe tbody tr th {\n",
       "        vertical-align: top;\n",
       "    }\n",
       "\n",
       "    .dataframe thead th {\n",
       "        text-align: right;\n",
       "    }\n",
       "</style>\n",
       "<table border=\"1\" class=\"dataframe\">\n",
       "  <thead>\n",
       "    <tr style=\"text-align: right;\">\n",
       "      <th></th>\n",
       "      <th>date</th>\n",
       "      <th>time</th>\n",
       "      <th>year</th>\n",
       "      <th>month</th>\n",
       "      <th>day</th>\n",
       "      <th>dayperiod</th>\n",
       "      <th>weatherDesc</th>\n",
       "      <th>seasonDesc</th>\n",
       "      <th>holidayDesc</th>\n",
       "      <th>workingdayDesc</th>\n",
       "      <th>...</th>\n",
       "      <th>temp</th>\n",
       "      <th>atemp</th>\n",
       "      <th>windspeed</th>\n",
       "      <th>humidity</th>\n",
       "      <th>casual</th>\n",
       "      <th>registered</th>\n",
       "      <th>count</th>\n",
       "      <th>casual%</th>\n",
       "      <th>registered%</th>\n",
       "      <th>traffic</th>\n",
       "    </tr>\n",
       "  </thead>\n",
       "  <tbody>\n",
       "    <tr>\n",
       "      <th>0</th>\n",
       "      <td>2011-01-01</td>\n",
       "      <td>00:00:00</td>\n",
       "      <td>2011</td>\n",
       "      <td>Jan</td>\n",
       "      <td>1</td>\n",
       "      <td>LateNight</td>\n",
       "      <td>Clear</td>\n",
       "      <td>Spring</td>\n",
       "      <td>Not Holiday</td>\n",
       "      <td>Not Working</td>\n",
       "      <td>...</td>\n",
       "      <td>9.84</td>\n",
       "      <td>14.395</td>\n",
       "      <td>0.0</td>\n",
       "      <td>81</td>\n",
       "      <td>3</td>\n",
       "      <td>13</td>\n",
       "      <td>16</td>\n",
       "      <td>18.75</td>\n",
       "      <td>81.25</td>\n",
       "      <td>Normal</td>\n",
       "    </tr>\n",
       "    <tr>\n",
       "      <th>1</th>\n",
       "      <td>2011-01-01</td>\n",
       "      <td>01:00:00</td>\n",
       "      <td>2011</td>\n",
       "      <td>Jan</td>\n",
       "      <td>1</td>\n",
       "      <td>LateNight</td>\n",
       "      <td>Clear</td>\n",
       "      <td>Spring</td>\n",
       "      <td>Not Holiday</td>\n",
       "      <td>Not Working</td>\n",
       "      <td>...</td>\n",
       "      <td>9.02</td>\n",
       "      <td>13.635</td>\n",
       "      <td>0.0</td>\n",
       "      <td>80</td>\n",
       "      <td>8</td>\n",
       "      <td>32</td>\n",
       "      <td>40</td>\n",
       "      <td>20.00</td>\n",
       "      <td>80.00</td>\n",
       "      <td>Normal</td>\n",
       "    </tr>\n",
       "    <tr>\n",
       "      <th>2</th>\n",
       "      <td>2011-01-01</td>\n",
       "      <td>02:00:00</td>\n",
       "      <td>2011</td>\n",
       "      <td>Jan</td>\n",
       "      <td>1</td>\n",
       "      <td>LateNight</td>\n",
       "      <td>Clear</td>\n",
       "      <td>Spring</td>\n",
       "      <td>Not Holiday</td>\n",
       "      <td>Not Working</td>\n",
       "      <td>...</td>\n",
       "      <td>9.02</td>\n",
       "      <td>13.635</td>\n",
       "      <td>0.0</td>\n",
       "      <td>80</td>\n",
       "      <td>5</td>\n",
       "      <td>27</td>\n",
       "      <td>32</td>\n",
       "      <td>15.62</td>\n",
       "      <td>84.38</td>\n",
       "      <td>Normal</td>\n",
       "    </tr>\n",
       "  </tbody>\n",
       "</table>\n",
       "<p>3 rows × 21 columns</p>\n",
       "</div>"
      ],
      "text/plain": [
       "         date      time  year month  day  dayperiod weatherDesc seasonDesc  \\\n",
       "0  2011-01-01  00:00:00  2011   Jan    1  LateNight       Clear     Spring   \n",
       "1  2011-01-01  01:00:00  2011   Jan    1  LateNight       Clear     Spring   \n",
       "2  2011-01-01  02:00:00  2011   Jan    1  LateNight       Clear     Spring   \n",
       "\n",
       "   holidayDesc workingdayDesc  ...  temp   atemp  windspeed  humidity  casual  \\\n",
       "0  Not Holiday    Not Working  ...  9.84  14.395        0.0        81       3   \n",
       "1  Not Holiday    Not Working  ...  9.02  13.635        0.0        80       8   \n",
       "2  Not Holiday    Not Working  ...  9.02  13.635        0.0        80       5   \n",
       "\n",
       "   registered  count  casual%  registered%  traffic  \n",
       "0          13     16    18.75        81.25   Normal  \n",
       "1          32     40    20.00        80.00   Normal  \n",
       "2          27     32    15.62        84.38   Normal  \n",
       "\n",
       "[3 rows x 21 columns]"
      ]
     },
     "execution_count": 321,
     "metadata": {},
     "output_type": "execute_result"
    }
   ],
   "source": [
    "yu.head(3)"
   ]
  },
  {
   "cell_type": "code",
   "execution_count": 452,
   "metadata": {},
   "outputs": [
    {
     "data": {
      "image/png": "[encoded data removed]",
      "text/plain": [
       "<Figure size 864x504 with 1 Axes>"
      ]
     },
     "metadata": {},
     "output_type": "display_data"
    }
   ],
   "source": [
    "fig = plt.figure(figsize =(12, 7))\n",
    "colors2 = ['#C5B7C7','#196CEB']\n",
    "plt.pie([round(yu['casual%'].mean(),2),round(yu['registered%'].mean(),2)],labels=['Casual','Registered'],autopct='%.f%%',textprops={'fontsize': 14},wedgeprops = { 'linewidth' : 2, 'edgecolor' : 'white' }, colors = colors2)\n",
    "plt.title(\"Customer Type\")\n",
    "plt.savefig('Customer_type.png', transparent = True)\n",
    "plt.show()"
   ]
  },
  {
   "cell_type": "markdown",
   "metadata": {},
   "source": [
    "        - A great news for Yulu Bikes, 83% of the total customers are actually registered users and only 17% customers are casual.\n",
    "        \n"
   ]
  },
  {
   "cell_type": "code",
   "execution_count": 346,
   "metadata": {},
   "outputs": [
    {
     "data": {
      "text/html": [
       "<div>\n",
       "<style scoped>\n",
       "    .dataframe tbody tr th:only-of-type {\n",
       "        vertical-align: middle;\n",
       "    }\n",
       "\n",
       "    .dataframe tbody tr th {\n",
       "        vertical-align: top;\n",
       "    }\n",
       "\n",
       "    .dataframe thead th {\n",
       "        text-align: right;\n",
       "    }\n",
       "</style>\n",
       "<table border=\"1\" class=\"dataframe\">\n",
       "  <thead>\n",
       "    <tr style=\"text-align: right;\">\n",
       "      <th></th>\n",
       "      <th>workingdayDesc</th>\n",
       "      <th>casual</th>\n",
       "      <th>registered</th>\n",
       "    </tr>\n",
       "  </thead>\n",
       "  <tbody>\n",
       "    <tr>\n",
       "      <th>0</th>\n",
       "      <td>Not Working</td>\n",
       "      <td>59.31</td>\n",
       "      <td>129.20</td>\n",
       "    </tr>\n",
       "    <tr>\n",
       "      <th>1</th>\n",
       "      <td>Working</td>\n",
       "      <td>25.11</td>\n",
       "      <td>167.91</td>\n",
       "    </tr>\n",
       "  </tbody>\n",
       "</table>\n",
       "</div>"
      ],
      "text/plain": [
       "  workingdayDesc  casual  registered\n",
       "0    Not Working   59.31      129.20\n",
       "1        Working   25.11      167.91"
      ]
     },
     "execution_count": 346,
     "metadata": {},
     "output_type": "execute_result"
    }
   ],
   "source": [
    "WC = yu.groupby(['workingdayDesc'])['casual'].mean().round(2).reset_index()\n",
    "WR = yu.groupby(['workingdayDesc'])['registered'].mean().round(2).reset_index()\n",
    "\n",
    "CR = pd.merge(WC,WR, on = 'workingdayDesc', how = 'inner')\n",
    "CR"
   ]
  },
  {
   "cell_type": "code",
   "execution_count": 442,
   "metadata": {},
   "outputs": [
    {
     "data": {
      "text/plain": [
       "136.0"
      ]
     },
     "execution_count": 442,
     "metadata": {},
     "output_type": "execute_result"
    }
   ],
   "source": [
    "(59-25)*100/25"
   ]
  },
  {
   "cell_type": "code",
   "execution_count": 444,
   "metadata": {},
   "outputs": [
    {
     "data": {
      "text/plain": [
       "-23.214285714285715"
      ]
     },
     "execution_count": 444,
     "metadata": {},
     "output_type": "execute_result"
    }
   ],
   "source": [
    "(129-168)*100/168"
   ]
  },
  {
   "cell_type": "code",
   "execution_count": null,
   "metadata": {},
   "outputs": [],
   "source": []
  },
  {
   "cell_type": "code",
   "execution_count": 451,
   "metadata": {},
   "outputs": [
    {
     "data": {
      "image/png": "[encoded data removed]",
      "text/plain": [
       "<Figure size 576x360 with 1 Axes>"
      ]
     },
     "metadata": {
      "needs_background": "light"
     },
     "output_type": "display_data"
    }
   ],
   "source": [
    "plt.figure(figsize = (8,5))\n",
    "\n",
    "X = WR['workingdayDesc'].tolist()\n",
    "Y = WR['registered'].tolist()\n",
    "Z = WC['casual'].tolist()\n",
    "\n",
    "X_axis = np.arange(len(X))\n",
    "  \n",
    "plt.bar(X_axis - 0.2, Y, 0.4,color =['#196CEB'], label = 'Registered') \n",
    "plt.bar(X_axis + 0.2, Z, 0.4,color =['#C5B7C7'], label = 'Casual')\n",
    "\n",
    "  \n",
    "plt.xticks(X_axis, X)\n",
    "plt.xlabel(\"Working Day\")\n",
    "plt.title(\"Registered vs Casual Customers\")\n",
    "plt.savefig('Customer_type_ho.png', transparent = True)\n",
    "plt.legend()\n",
    "plt.show()"
   ]
  },
  {
   "cell_type": "markdown",
   "metadata": {},
   "source": [
    "        - Out of the registered customers, an average of 168 customers use Yulu during the working days, more than non working days.\n",
    "        \n",
    "        - But, out of the casual customers, this pattern is reversed i.e. casual customers tend to use Yulu on a non working days more than the working days."
   ]
  },
  {
   "cell_type": "markdown",
   "metadata": {},
   "source": [
    "# Some Recommendations To The Leadership:"
   ]
  },
  {
   "attachments": {},
   "cell_type": "markdown",
   "metadata": {},
   "source": [
    "    - Overall, things look very optimistic for Yulu Bikes. The popularity of Yulu Bikes is on a rise per year.\n",
    "    All the quarters have seen a positive YoY growth :\n",
    "    \n",
    "        Q1 : +68%\n",
    "        Q2 : +51%\n",
    "        Q3 : +57%\n",
    "        Q4 : +122%\n",
    "        \n",
    "\n",
    "    (1) SEASONS :\n",
    "    \n",
    "    - Yulu sees the highest demand during Fall and Summer seasons, while demand drops during Spring. \n",
    "    \n",
    "    \n",
    "    YULU : should focus on strengthening the demands in Fall and Summer, while need to focus on creating marketing campaigns during Spring season.\n",
    "    \n",
    "    \n",
    "    \n",
    "    \n",
    "    (2) WEATHER :\n",
    "    \n",
    "    - Majority of the customers prefer a clear weather, with cloudy weather being the second most preferred weather.\n",
    "    \n",
    "    \n",
    "    YULU : should experiment with surge pricing on a cloudy day.\n",
    "    \n",
    "    \n",
    "    \n",
    "    \n",
    "    (3) SEASON + WEATHER :\n",
    "    \n",
    "    - The top most conditions with the highest demand for Yulu Bikes are during Clear weather during Fall, Summer and Winter, along with Cloudy consitions during Fall and Winter.\n",
    "    \n",
    "    \n",
    "    - YULU : should experiment with surge pricing for conditions such as:\n",
    "    \n",
    "        Fall & Clear\n",
    "        Summer & Clear\n",
    "        Winter & Clear\n",
    "        Fall & Cloudy\n",
    "        Winter & Cloudy\n",
    "        \n",
    "        \n",
    "        \n",
    "    \n",
    "    (4) HIGHEST PROBABILITY OF A CUSTOMER VISIT:\n",
    "    \n",
    "    - Unexpectedly, the highest probability for the customers to use a Yulu Bike is during Fall with Light Rains, with a staggering 80% !! followed by Light Rains in Winter and Summer with 60% and 55% respectively.\n",
    "    \n",
    "    - Yulu should experiment with surge pricing during Light Rains in any of the 4 weathers i.e. throughout the year.\n",
    "    \n",
    "    \n",
    "    \n",
    "    \n",
    "    (5) WORKING DAY VS HOLIDAY\n",
    "    \n",
    "    - We do not see any significant difference of working/non working days for any season as such. Fall and Summer are most preferred seasons by the customers and Clear skies are most preferred by the customers.\n",
    "    \n",
    "    - However, on a holiday, Yulu is more in demand by customers that are not registered. \n",
    "    \n",
    "    \n",
    "    YULU : should focus on creating loyalty campaigns on holidays, to convert the casual customers into registered customers.\n",
    "    YULU : on a holiday, should try targeted ad campaigns during 12noon to 5pm as well as during 12am to 4 am time period.\n",
    "    \n",
    "    \n",
    "    \n",
    "    (6) TEMPERATURE :\n",
    "    \n",
    "    - Temperature has very strong correlation with Yulu customer count i.e. around 90%.\n",
    "    \n",
    "    \n",
    "    Temp where demand increases : around the average temp of 26°C, with the range of 10°C to 41°C\n",
    "    \n",
    "    Temp where demand decreases : as the average temp drops below 17°C, with the range of 6°C to 30°C\n",
    "    \n",
    "    Temp where demand perishes  : as the average temp drops below 12°C, with the range of 0°C to 29°C\n",
    "    \n",
    "    \n",
    "    - Temperature with the highest growth YoY (122%) : average temp of 12°C, with the range of 0°C to 29°C\n",
    "    \n",
    "    \n",
    "    YULU : should look to increase their operations in the cities where mostly the temperature range lies between 17°C and  41°C.\n",
    "    \n",
    "    YULU : should also start new marketing ventures during the colder seasons where the temp range is 0°C to 12°C, which is the temp range with fastest growing customer demand.\n",
    "    \n",
    "    \n",
    "    \n",
    "    \n",
    "    \n",
    "    (7) HUMIDITY AND WINDSPEED :\n",
    "    \n",
    "    - Humidity has very strong positive correlation with Yulu customer count i.e. around 80%.\n",
    "    - Windspeed has very strong negative correlation with Yulu customer count i.e. around -80%.\n",
    "    \n",
    "    YULU : should target cities and seasons where humidity is in the range of 60% to 70%.\n",
    "    YULU : should target cities and weather where windspeed is on a lower side, usually less than 12 Km/h.\n",
    "    \n",
    "    \n",
    "    \n",
    "    \n",
    "    (8) SPIKES DURING THE DAY :\n",
    "    \n",
    "        - Evening, Morning and Afternoon are the day period with highest demand in Yulu Bikes, but 8pm to 12 am is the time where demand decreases.\n",
    "        \n",
    "        - Working days have higher demand than non working days.\n",
    "    \n",
    "        - The demand during afternoon & late night hours is much higher on a holiday than on a working day. \n",
    "    \n",
    "        - Evening time sees the surge in demand in all the seasons than the average demand, followed by Afternoon time. Fall & Evening sees the highest jump with 164%, followed by Summer evening and Winter evening at 145% and 111% respectively\n",
    "    \n",
    "\n",
    "    YULU : should experiment with surge pricing during 5pm to 8pm time period during the day, throughout the year.\n",
    "    YULU : on a holiday, should try targeted ad campaigns during 12noon to 5pm as well as during 12am to 4 am time period.\n",
    "    YULU : should try lucrative offers during night time (8pm to 12am) as this is the time which has a very good scope of growth.\n",
    "    \n",
    "    "
   ]
  },
  {
   "cell_type": "code",
   "execution_count": null,
   "metadata": {},
   "outputs": [],
   "source": []
  },
  {
   "cell_type": "code",
   "execution_count": null,
   "metadata": {},
   "outputs": [],
   "source": []
  },
  {
   "cell_type": "markdown",
   "metadata": {},
   "source": [
    "## END"
   ]
  }
 ],
 "metadata": {
  "kernelspec": {
   "display_name": "Python 3",
   "language": "python",
   "name": "python3"
  },
  "language_info": {
   "codemirror_mode": {
    "name": "ipython",
    "version": 3
   },
   "file_extension": ".py",
   "mimetype": "text/x-python",
   "name": "python",
   "nbconvert_exporter": "python",
   "pygments_lexer": "ipython3",
   "version": "3.8.5"
  }
 },
 "nbformat": 4,
 "nbformat_minor": 4
}
